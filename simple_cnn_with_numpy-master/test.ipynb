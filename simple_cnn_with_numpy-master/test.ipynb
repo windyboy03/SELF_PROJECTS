{
 "cells": [
  {
   "cell_type": "code",
   "execution_count": 1,
   "metadata": {
    "collapsed": true,
    "ExecuteTime": {
     "start_time": "2023-04-20T15:11:48.954774Z",
     "end_time": "2023-04-20T15:11:49.031773Z"
    }
   },
   "outputs": [],
   "source": [
    "import numpy as np\n",
    "from layers import *\n",
    "from adam import *\n",
    "\n",
    "SIZE = 100\n",
    "xs = np.random.standard_normal((SIZE, 3, 32, 32))\n",
    "labels = np.random.randint(0, 10, SIZE, dtype='int32')\n",
    "conv1_param = {\n",
    "    'name': 'conv1',\n",
    "    'in_shape': (3, 32, 32),\n",
    "    'cores': np.random.standard_normal((6, 3, 3, 3)) / np.sqrt(27),\n",
    "    'bias': np.zeros((6, 32, 32))\n",
    "}\n",
    "conv2_param = {\n",
    "    'name': 'conv2',\n",
    "    'in_shape': (6, 16, 16),\n",
    "    'cores': np.random.standard_normal((8, 6, 3, 3)) / np.sqrt(54),\n",
    "    'bias': np.zeros((8, 16, 16))\n",
    "}\n",
    "fc1_param = {\n",
    "    'name' : 'fc1',\n",
    "    'W': np.random.standard_normal((64, 512)) / np.sqrt(512),\n",
    "    'b': np.zeros((64,))\n",
    "}\n",
    "fc2_param = {\n",
    "    'name' : 'fc2',\n",
    "    'W': np.random.standard_normal((10, 64)) / np.sqrt(32),\n",
    "    'b': np.zeros((10,))\n",
    "}\n"
   ]
  },
  {
   "cell_type": "code",
   "execution_count": null,
   "outputs": [],
   "source": [
    "def main():\n",
    "    for epoch in range(10):\n",
    "        losses = 0\n",
    "        for i in range(SIZE):\n",
    "            x = xs[i]\n",
    "            label = labels[i]\n",
    "\n",
    "            y, conv1_cache = conv_forward(x, conv1_param)\n",
    "            y, pool1_cache = pool_forward(y)\n",
    "            y, conv2_cache = conv_forward(y, conv2_param)\n",
    "            y, pool2_cache = pool_forward(y)\n",
    "            y = y.flatten()\n",
    "            y, fc1_cache = fc_forward(y, fc1_param)\n",
    "            y, relu_cache = relu_forward(y)\n",
    "            y, fc2_cache = fc_forward(y, fc2_param)\n",
    "            grad, loss = loss_eval(y, label)\n",
    "            dy, d_fc2_param = fc_backward(grad, fc2_param, fc2_cache)\n",
    "            dy = relu_backward(dy, relu_cache)\n",
    "            dy, d_fc1_param = fc_backward(dy, fc1_param, fc1_cache)\n",
    "            dy = dy.reshape((8, 8, 8))\n",
    "            dy = pool_backward(dy, pool2_cache)\n",
    "            dy, d_conv2_param = conv_backward(dy, conv2_param, conv2_cache)\n",
    "            dy = pool_backward(dy, pool1_cache)\n",
    "            dx, d_conv1_param = conv_backward(dy, conv1_param, conv1_cache)\n",
    "\n",
    "            adam(fc1_param, d_fc1_param)\n",
    "            adam(fc2_param, d_fc2_param)\n",
    "            adam(conv1_param, d_conv1_param)\n",
    "            adam(conv2_param, d_conv2_param)\n",
    "\n",
    "            losses += loss\n",
    "        print('epoch {}: loss={}'.format(epoch, str(losses / SIZE)))"
   ],
   "metadata": {
    "collapsed": false,
    "ExecuteTime": {
     "start_time": "2023-04-20T13:42:53.496084Z",
     "end_time": "2023-04-20T13:42:53.509081Z"
    }
   }
  },
  {
   "cell_type": "code",
   "execution_count": null,
   "outputs": [],
   "source": [
    "main()"
   ],
   "metadata": {
    "collapsed": false,
    "ExecuteTime": {
     "start_time": "2023-04-20T13:43:09.040389Z",
     "end_time": "2023-04-20T13:43:13.337488Z"
    }
   }
  },
  {
   "cell_type": "code",
   "execution_count": null,
   "outputs": [],
   "source": [
    "losses = 0\n",
    "x = xs[1]\n",
    "label = labels[1]\n",
    "y, conv1_cache = conv_forward(x, conv1_param)"
   ],
   "metadata": {
    "collapsed": false
   }
  }
 ],
 "metadata": {
  "kernelspec": {
   "display_name": "Python 3",
   "language": "python",
   "name": "python3"
  },
  "language_info": {
   "codemirror_mode": {
    "name": "ipython",
    "version": 2
   },
   "file_extension": ".py",
   "mimetype": "text/x-python",
   "name": "python",
   "nbconvert_exporter": "python",
   "pygments_lexer": "ipython2",
   "version": "2.7.6"
  }
 },
 "nbformat": 4,
 "nbformat_minor": 0
}
