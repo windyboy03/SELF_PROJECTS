{
 "cells": [
  {
   "cell_type": "code",
   "execution_count": 1,
   "outputs": [],
   "source": [
    "import img2narray\n",
    "import matplotlib.pyplot as plt\n",
    "import numpy as np\n"
   ],
   "metadata": {
    "collapsed": false,
    "ExecuteTime": {
     "start_time": "2023-04-21T09:17:15.964098Z",
     "end_time": "2023-04-21T09:17:16.231524Z"
    }
   }
  },
  {
   "cell_type": "code",
   "execution_count": 2,
   "outputs": [],
   "source": [
    "# preprocessing data\n",
    "training_data = img2narray.get_data_from_folder('F:\\pycham\\PycharmProjects\\pythonProject\\CNN\\Images', ['carrot', 'Rocket'], 200)\n",
    "\n",
    "images = [d[0] for d in training_data]\n",
    "labels = [d[1] for d in training_data]\n",
    "labels = np.array(labels)\n",
    "images_arr = np.stack(np.array(images).astype('float32'), axis=0).transpose(0, 1, 2, 3)\n",
    "\n",
    "# Normalize pixel\n",
    "images_arr /= 255.0\n"
   ],
   "metadata": {
    "collapsed": false,
    "ExecuteTime": {
     "start_time": "2023-04-21T09:20:38.615588Z",
     "end_time": "2023-04-21T09:20:41.113879Z"
    }
   }
  },
  {
   "cell_type": "code",
   "execution_count": null,
   "outputs": [],
   "source": [
    "print(training_data[0][0][0].shape)"
   ],
   "metadata": {
    "collapsed": false,
    "ExecuteTime": {
     "start_time": "2023-04-21T08:12:33.461488Z",
     "end_time": "2023-04-21T08:12:33.473487Z"
    }
   }
  },
  {
   "cell_type": "code",
   "execution_count": null,
   "outputs": [],
   "source": [
    "index = 200\n",
    "\n",
    "plt.imshow(training_data[index][0].transpose(1,2,0),cmap = plt.cm.gray)\n",
    "print(\"y is: \"+str(training_data[index]))"
   ],
   "metadata": {
    "collapsed": false,
    "ExecuteTime": {
     "start_time": "2023-04-21T08:24:29.087192Z",
     "end_time": "2023-04-21T08:24:29.314193Z"
    }
   }
  },
  {
   "cell_type": "code",
   "execution_count": 3,
   "outputs": [],
   "source": [
    "import numpy as np\n",
    "from layers import *\n",
    "from adam import *\n",
    "\n",
    "SIZE = len(training_data)\n",
    "xs = images_arr\n",
    "labels = labels\n",
    "conv1_param = {\n",
    "    'name': 'conv1',\n",
    "    'in_shape': (3, 200, 200),\n",
    "    'cores': np.random.standard_normal((16, 3, 3, 3)) / np.sqrt(27),\n",
    "    'bias': np.zeros((16, 200, 200))\n",
    "}\n",
    "conv2_param = {\n",
    "    'name': 'conv2',\n",
    "    'in_shape': (16, 100, 100),\n",
    "    'cores': np.random.standard_normal((16, 16, 3, 3)) / np.sqrt(54),\n",
    "    'bias': np.zeros((16, 100, 100))\n",
    "}\n",
    "fc1_param = {\n",
    "    'name' : 'fc1',\n",
    "    'W': np.random.standard_normal((128, 40000)) / np.sqrt(512),\n",
    "    'b': np.zeros((128,))\n",
    "}\n",
    "fc2_param = {\n",
    "    'name' : 'fc2',\n",
    "    'W': np.random.standard_normal((64, 128)) / np.sqrt(32),\n",
    "    'b': np.zeros((64,))\n",
    "}\n",
    "fc3_param = {\n",
    "    'name' : 'fc3',\n",
    "    'W': np.random.standard_normal((2,64)) / np.sqrt(16),\n",
    "    'b': np.zeros((2,))\n",
    "}"
   ],
   "metadata": {
    "collapsed": false,
    "ExecuteTime": {
     "start_time": "2023-04-21T09:21:16.423930Z",
     "end_time": "2023-04-21T09:21:16.531244Z"
    }
   }
  },
  {
   "cell_type": "code",
   "execution_count": 4,
   "outputs": [],
   "source": [
    "def main():\n",
    "    for epoch in range(13):\n",
    "        losses = 0\n",
    "        for i in range(SIZE):\n",
    "            x = xs[i]\n",
    "            label = labels[i]\n",
    "\n",
    "            y, conv1_cache = conv_forward(x, conv1_param)\n",
    "            y, pool1_cache = pool_forward(y)\n",
    "            y, conv2_cache = conv_forward(y, conv2_param)\n",
    "            y, pool2_cache = pool_forward(y)\n",
    "            y = y.flatten()\n",
    "            y, fc1_cache = fc_forward(y, fc1_param)\n",
    "            y, relu1_cache = relu_forward(y)\n",
    "            y, fc2_cache = fc_forward(y, fc2_param)\n",
    "            y, relu2_cache = relu_forward(y)\n",
    "            y, fc3_cache = fc_forward(y, fc3_param)\n",
    "            grad, loss = loss_eval(y, label)\n",
    "            dy, d_fc3_param = fc_backward(grad, fc3_param, fc3_cache)\n",
    "            dy = relu_backward(dy, relu2_cache)\n",
    "            dy, d_fc2_param = fc_backward(dy, fc2_param, fc2_cache)\n",
    "            dy = relu_backward(dy, relu1_cache)\n",
    "            dy, d_fc1_param = fc_backward(dy, fc1_param, fc1_cache)\n",
    "            dy = dy.reshape((16, 50, 50))\n",
    "            dy = pool_backward(dy, pool2_cache)\n",
    "            dy, d_conv2_param = conv_backward(dy, conv2_param, conv2_cache)\n",
    "            dy = pool_backward(dy, pool1_cache)\n",
    "            dx, d_conv1_param = conv_backward(dy, conv1_param, conv1_cache)\n",
    "\n",
    "            adam(fc1_param, d_fc1_param)\n",
    "            adam(fc2_param, d_fc2_param)\n",
    "            adam(fc3_param, d_fc3_param)\n",
    "            adam(conv1_param, d_conv1_param)\n",
    "            adam(conv2_param, d_conv2_param)\n",
    "\n",
    "            losses += loss\n",
    "        print('epoch {}: loss={}'.format(epoch, str(losses / SIZE)))"
   ],
   "metadata": {
    "collapsed": false,
    "ExecuteTime": {
     "start_time": "2023-04-21T09:21:20.239909Z",
     "end_time": "2023-04-21T09:21:20.249909Z"
    }
   }
  },
  {
   "cell_type": "code",
   "execution_count": 5,
   "outputs": [
    {
     "name": "stdout",
     "output_type": "stream",
     "text": [
      "epoch 0: loss=8.979017186305226\n",
      "epoch 1: loss=9.420722696937553\n",
      "epoch 2: loss=2.372416895203258\n",
      "epoch 3: loss=1.3965071631240893\n",
      "epoch 4: loss=0.7109592016656909\n",
      "epoch 5: loss=4.21482056157652\n",
      "epoch 6: loss=3.7040067673888135\n",
      "epoch 7: loss=0.7300657418462768\n",
      "epoch 8: loss=0.27635746670935035\n",
      "epoch 9: loss=0.19758741950140632\n",
      "epoch 10: loss=0.07387202768677191\n",
      "epoch 11: loss=0.0019122991129357106\n",
      "epoch 12: loss=0.0005940544779634499\n"
     ]
    }
   ],
   "source": [
    "main()"
   ],
   "metadata": {
    "collapsed": false,
    "ExecuteTime": {
     "start_time": "2023-04-21T09:21:24.084585Z",
     "end_time": "2023-04-21T09:45:17.569420Z"
    }
   }
  },
  {
   "cell_type": "code",
   "execution_count": null,
   "outputs": [],
   "source": [
    "losses = 0\n",
    "x = xs[200]\n",
    "label = labels[200]\n",
    "\n",
    "ypre, conv1_cache = conv_forward(x, conv1_param)\n",
    "ypre, pool1_cache = pool_forward(ypre)\n",
    "ypre, conv2_cache = conv_forward(ypre, conv2_param)\n",
    "ypre, pool2_cache = pool_forward(ypre)\n",
    "ypre = ypre.flatten()\n",
    "ypre, fc1_cache = fc_forward(ypre, fc1_param)\n",
    "ypre, relu1_cache = relu_forward(ypre)\n",
    "ypre, fc2_cache = fc_forward(ypre, fc2_param)\n",
    "ypre, relu2_cache = relu_forward(ypre)\n",
    "ypre, fc3_cache = fc_forward(ypre, fc3_param)\n",
    "grad, loss = loss_eval(ypre, label)\n",
    "pred = softmax(ypre)"
   ],
   "metadata": {
    "collapsed": false,
    "ExecuteTime": {
     "start_time": "2023-04-21T08:46:22.059922Z",
     "end_time": "2023-04-21T08:46:22.495920Z"
    }
   }
  },
  {
   "cell_type": "code",
   "execution_count": 11,
   "outputs": [
    {
     "name": "stdout",
     "output_type": "stream",
     "text": [
      "[6.92880272e-20 1.00000000e+00]\n",
      "1\n"
     ]
    }
   ],
   "source": [
    "imgtest = images_arr[200: 250]\n",
    "\n",
    "label = labels[100: 250]\n",
    "for x in imgtest:\n",
    "    ypred, _ = conv_forward(x, conv1_param)\n",
    "    ypred, _ = pool_forward(ypred)\n",
    "    ypred, _ = conv_forward(ypred, conv2_param)\n",
    "    ypred, _ = pool_forward(ypred)\n",
    "    ypred = ypred.flatten()\n",
    "    ypred, _ = fc_forward(ypred, fc1_param)\n",
    "    ypred, _ = relu_forward(ypred)\n",
    "    ypred, _ = fc_forward(ypred, fc2_param)\n",
    "    ypred, _ = relu_forward(ypred)\n",
    "    ypred, _ = fc_forward(ypred, fc3_param)\n",
    "    print(max(softmax(ypred)) )\n",
    "    print(label)"
   ],
   "metadata": {
    "collapsed": false,
    "ExecuteTime": {
     "start_time": "2023-04-21T09:49:01.725791Z",
     "end_time": "2023-04-21T09:49:01.789788Z"
    }
   }
  },
  {
   "cell_type": "code",
   "execution_count": null,
   "outputs": [],
   "source": [],
   "metadata": {
    "collapsed": false
   }
  }
 ],
 "metadata": {
  "kernelspec": {
   "display_name": "Python 3",
   "language": "python",
   "name": "python3"
  },
  "language_info": {
   "codemirror_mode": {
    "name": "ipython",
    "version": 2
   },
   "file_extension": ".py",
   "mimetype": "text/x-python",
   "name": "python",
   "nbconvert_exporter": "python",
   "pygments_lexer": "ipython2",
   "version": "2.7.6"
  }
 },
 "nbformat": 4,
 "nbformat_minor": 0
}
