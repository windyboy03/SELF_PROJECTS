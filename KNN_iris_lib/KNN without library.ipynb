{
 "cells": [
  {
   "cell_type": "markdown",
   "id": "10b3053e-d6ce-4dd3-9073-53f97dd65d43",
   "metadata": {},
   "source": [
    "# KNN Classification Iris withoutlibrary"
   ]
  },
  {
   "cell_type": "markdown",
   "id": "0362e946-bd34-4d62-803f-60434bbd5196",
   "metadata": {
    "jp-MarkdownHeadingCollapsed": true,
    "tags": []
   },
   "source": [
    " #### IMPORTING LIBRARIES"
   ]
  },
  {
   "cell_type": "code",
   "execution_count": 1,
   "id": "18f5b842-89bf-4a1f-ace4-647720c9cdae",
   "metadata": {
    "ExecuteTime": {
     "start_time": "2023-04-12T12:17:36.646036Z",
     "end_time": "2023-04-12T12:17:51.018017Z"
    }
   },
   "outputs": [],
   "source": [
    "import numpy as np\n",
    "import matplotlib.pyplot as plt\n",
    "import pandas as pd\n",
    "plt.style.use('fivethirtyeight')\n",
    "%matplotlib inline\n",
    "from sklearn.preprocessing import LabelEncoder\n",
    "from sklearn.model_selection import train_test_split\n",
    "from sklearn.preprocessing import StandardScaler\n",
    "from sklearn.neighbors import KNeighborsClassifier\n",
    "from sklearn.metrics import classification_report, confusion_matrix\n",
    "from sklearn.model_selection import GridSearchCV\n",
    "import scipy.stats as stats\n",
    "from sklearn.metrics import accuracy_score\n",
    "\n"
   ]
  },
  {
   "cell_type": "markdown",
   "id": "d08c2c71-6365-4469-8247-1cc1136ff9b8",
   "metadata": {
    "jp-MarkdownHeadingCollapsed": true,
    "tags": []
   },
   "source": [
    "### READ DATA"
   ]
  },
  {
   "cell_type": "code",
   "execution_count": 2,
   "id": "7ae3aded-72a7-4844-8084-98c1d4ef93fb",
   "metadata": {
    "ExecuteTime": {
     "start_time": "2023-04-12T12:17:51.022017Z",
     "end_time": "2023-04-12T12:17:51.107860Z"
    }
   },
   "outputs": [],
   "source": [
    "iris = pd.read_csv('Iris.csv')"
   ]
  },
  {
   "cell_type": "markdown",
   "id": "9e1a72b4-289a-407e-b139-c874ebbb9d19",
   "metadata": {
    "jp-MarkdownHeadingCollapsed": true,
    "tags": []
   },
   "source": [
    "### OVERVIEW DATA\n",
    "##### We see that have\n",
    "##### + 150 rows and 6 columns \n",
    "##### + 1 Categorical column and 5 Numerical\n",
    "##### + No missing values."
   ]
  },
  {
   "cell_type": "code",
   "execution_count": 3,
   "id": "18a08600-7ad0-4374-a200-8bf429554d7d",
   "metadata": {
    "ExecuteTime": {
     "start_time": "2023-04-12T12:17:51.108860Z",
     "end_time": "2023-04-12T12:17:51.121079Z"
    }
   },
   "outputs": [
    {
     "name": "stdout",
     "output_type": "stream",
     "text": [
      "<class 'pandas.core.frame.DataFrame'>\n",
      "RangeIndex: 150 entries, 0 to 149\n",
      "Data columns (total 6 columns):\n",
      " #   Column         Non-Null Count  Dtype  \n",
      "---  ------         --------------  -----  \n",
      " 0   Id             150 non-null    int64  \n",
      " 1   SepalLengthCm  150 non-null    float64\n",
      " 2   SepalWidthCm   150 non-null    float64\n",
      " 3   PetalLengthCm  150 non-null    float64\n",
      " 4   PetalWidthCm   150 non-null    float64\n",
      " 5   Species        150 non-null    object \n",
      "dtypes: float64(4), int64(1), object(1)\n",
      "memory usage: 7.2+ KB\n"
     ]
    }
   ],
   "source": [
    "iris.info()"
   ]
  },
  {
   "cell_type": "code",
   "execution_count": 4,
   "id": "da345b56-a728-452a-9d20-fac5a4d2b08a",
   "metadata": {
    "ExecuteTime": {
     "start_time": "2023-04-12T12:17:51.122082Z",
     "end_time": "2023-04-12T12:17:51.174226Z"
    }
   },
   "outputs": [
    {
     "data": {
      "text/plain": "               Id  SepalLengthCm  SepalWidthCm  PetalLengthCm  PetalWidthCm\ncount  150.000000     150.000000    150.000000     150.000000    150.000000\nmean    75.500000       5.843333      3.054000       3.758667      1.198667\nstd     43.445368       0.828066      0.433594       1.764420      0.763161\nmin      1.000000       4.300000      2.000000       1.000000      0.100000\n25%     38.250000       5.100000      2.800000       1.600000      0.300000\n50%     75.500000       5.800000      3.000000       4.350000      1.300000\n75%    112.750000       6.400000      3.300000       5.100000      1.800000\nmax    150.000000       7.900000      4.400000       6.900000      2.500000",
      "text/html": "<div>\n<style scoped>\n    .dataframe tbody tr th:only-of-type {\n        vertical-align: middle;\n    }\n\n    .dataframe tbody tr th {\n        vertical-align: top;\n    }\n\n    .dataframe thead th {\n        text-align: right;\n    }\n</style>\n<table border=\"1\" class=\"dataframe\">\n  <thead>\n    <tr style=\"text-align: right;\">\n      <th></th>\n      <th>Id</th>\n      <th>SepalLengthCm</th>\n      <th>SepalWidthCm</th>\n      <th>PetalLengthCm</th>\n      <th>PetalWidthCm</th>\n    </tr>\n  </thead>\n  <tbody>\n    <tr>\n      <th>count</th>\n      <td>150.000000</td>\n      <td>150.000000</td>\n      <td>150.000000</td>\n      <td>150.000000</td>\n      <td>150.000000</td>\n    </tr>\n    <tr>\n      <th>mean</th>\n      <td>75.500000</td>\n      <td>5.843333</td>\n      <td>3.054000</td>\n      <td>3.758667</td>\n      <td>1.198667</td>\n    </tr>\n    <tr>\n      <th>std</th>\n      <td>43.445368</td>\n      <td>0.828066</td>\n      <td>0.433594</td>\n      <td>1.764420</td>\n      <td>0.763161</td>\n    </tr>\n    <tr>\n      <th>min</th>\n      <td>1.000000</td>\n      <td>4.300000</td>\n      <td>2.000000</td>\n      <td>1.000000</td>\n      <td>0.100000</td>\n    </tr>\n    <tr>\n      <th>25%</th>\n      <td>38.250000</td>\n      <td>5.100000</td>\n      <td>2.800000</td>\n      <td>1.600000</td>\n      <td>0.300000</td>\n    </tr>\n    <tr>\n      <th>50%</th>\n      <td>75.500000</td>\n      <td>5.800000</td>\n      <td>3.000000</td>\n      <td>4.350000</td>\n      <td>1.300000</td>\n    </tr>\n    <tr>\n      <th>75%</th>\n      <td>112.750000</td>\n      <td>6.400000</td>\n      <td>3.300000</td>\n      <td>5.100000</td>\n      <td>1.800000</td>\n    </tr>\n    <tr>\n      <th>max</th>\n      <td>150.000000</td>\n      <td>7.900000</td>\n      <td>4.400000</td>\n      <td>6.900000</td>\n      <td>2.500000</td>\n    </tr>\n  </tbody>\n</table>\n</div>"
     },
     "execution_count": 4,
     "metadata": {},
     "output_type": "execute_result"
    }
   ],
   "source": [
    "iris.describe()"
   ]
  },
  {
   "cell_type": "markdown",
   "id": "32905acf-61ee-4d79-b80c-18656aec8ad9",
   "metadata": {
    "jp-MarkdownHeadingCollapsed": true,
    "tags": []
   },
   "source": [
    "### Transform species to numberic"
   ]
  },
  {
   "cell_type": "code",
   "execution_count": 5,
   "id": "274ee155-825d-4ce8-b995-e227d6c7ab9e",
   "metadata": {
    "ExecuteTime": {
     "start_time": "2023-04-12T12:17:51.171226Z",
     "end_time": "2023-04-12T12:17:51.188673Z"
    }
   },
   "outputs": [],
   "source": [
    "le = LabelEncoder()\n",
    "iris['Species'] = le.fit_transform(iris['Species'])"
   ]
  },
  {
   "cell_type": "code",
   "execution_count": 6,
   "id": "ceae4cef-ae51-469c-8dad-b130172b35ba",
   "metadata": {
    "ExecuteTime": {
     "start_time": "2023-04-12T12:17:51.185673Z",
     "end_time": "2023-04-12T12:17:51.212647Z"
    }
   },
   "outputs": [
    {
     "data": {
      "text/plain": "0      0\n1      0\n2      0\n3      0\n4      0\n      ..\n145    2\n146    2\n147    2\n148    2\n149    2\nName: Species, Length: 150, dtype: int32"
     },
     "execution_count": 6,
     "metadata": {},
     "output_type": "execute_result"
    }
   ],
   "source": [
    "iris['Species']"
   ]
  },
  {
   "cell_type": "markdown",
   "id": "5b3001c6-2a35-42de-873d-0a2072a6ca46",
   "metadata": {
    "jp-MarkdownHeadingCollapsed": true,
    "tags": []
   },
   "source": [
    "### +X variable contains the attributes \n",
    "### +Y contains the labels."
   ]
  },
  {
   "cell_type": "code",
   "execution_count": 7,
   "id": "d0e37bca-8dd5-4482-82a0-a50891c321ac",
   "metadata": {
    "ExecuteTime": {
     "start_time": "2023-04-12T12:17:51.203648Z",
     "end_time": "2023-04-12T12:17:51.244673Z"
    }
   },
   "outputs": [],
   "source": [
    "X = iris.iloc[:, :-1].values\n",
    "y = iris['Species']"
   ]
  },
  {
   "cell_type": "markdown",
   "id": "1856fcad-e535-4724-a63e-b2922358f671",
   "metadata": {
    "jp-MarkdownHeadingCollapsed": true,
    "tags": []
   },
   "source": [
    "### Splits the dataset into 80% train data and 20% test data"
   ]
  },
  {
   "cell_type": "code",
   "execution_count": 8,
   "id": "d224058b-5495-4f1e-ad47-9a2a6bcb99ef",
   "metadata": {
    "ExecuteTime": {
     "start_time": "2023-04-12T12:17:51.216649Z",
     "end_time": "2023-04-12T12:17:51.280663Z"
    }
   },
   "outputs": [],
   "source": [
    "X_train,X_test,y_train,y_test = train_test_split(X,y,test_size=0.2,random_state=42, stratify=y)"
   ]
  },
  {
   "cell_type": "markdown",
   "id": "977ae684-009b-4574-ba08-0e2f6f3d8dd3",
   "metadata": {
    "jp-MarkdownHeadingCollapsed": true,
    "tags": []
   },
   "source": [
    "### Feature Scaling"
   ]
  },
  {
   "cell_type": "code",
   "execution_count": 9,
   "id": "7539058b-8234-4eff-b58a-0171286c0d65",
   "metadata": {
    "ExecuteTime": {
     "start_time": "2023-04-12T12:17:51.230817Z",
     "end_time": "2023-04-12T12:17:51.295665Z"
    }
   },
   "outputs": [],
   "source": [
    "scaler = StandardScaler()\n",
    "scaler.fit(X_train)\n",
    "\n",
    "X_train = scaler.transform(X_train)\n",
    "X_test = scaler.transform(X_test)"
   ]
  },
  {
   "cell_type": "markdown",
   "id": "9d6d5475-2632-4333-a885-d366a2929e06",
   "metadata": {
    "tags": []
   },
   "source": [
    "### Implementation the KNN\n",
    "##### Calculate the distances between a test point and all points.\n",
    "##### Reshape the distances.\n",
    "##### Stack the reshaped distance list.\n",
    "##### Sort the train_df.\n",
    "##### Take the mean of the y_train values from the first 5 rows to obtain the prediction value.\n",
    "##### Repeat\n",
    "\n",
    "#####\n",
    "#####\n",
    "#####"
   ]
  },
  {
   "cell_type": "code",
   "execution_count": 15,
   "id": "0b4eeb65-9e2b-4b1d-9633-63d262e58d7d",
   "metadata": {
    "ExecuteTime": {
     "start_time": "2023-04-12T12:18:59.639123Z",
     "end_time": "2023-04-12T12:18:59.658222Z"
    }
   },
   "outputs": [
    {
     "data": {
      "text/plain": "[array([-1.55163971, -1.72156775, -0.32483982, -1.34703555, -1.32016847,\n         0.        ]),\n array([ 0.72984103, -1.12449223, -1.22612948,  0.41429037,  0.65186742,\n         2.        ]),\n array([ 0.03142856,  1.14439475, -0.55016223,  0.58474127,  0.25746024,\n         1.        ]),\n array([-1.52835929, -1.12449223,  0.12580502, -1.29021859, -1.45163753,\n         0.        ]),\n array([ 0.33407397, -0.40800161, -1.22612948,  0.13020555,  0.12599118,\n         1.        ]),\n array([ 1.66105766,  0.54731923, -1.22612948,  0.6983752 ,  0.91480554,\n         2.        ])]"
     },
     "execution_count": 15,
     "metadata": {},
     "output_type": "execute_result"
    }
   ],
   "source": [
    "train = np.array(X_train)\n",
    "test = np.array(X_test)\n",
    "y_train = np.array(y_train)\n",
    "\n",
    "y_train = y_train.reshape(-1, 1)\n",
    "\n",
    "train_df = np.hstack([train, y_train])\n",
    "list(train_df[0:6])"
   ]
  },
  {
   "cell_type": "code",
   "execution_count": 11,
   "id": "e6c716a3-2142-4112-86fd-b7d21e3eaf64",
   "metadata": {
    "ExecuteTime": {
     "start_time": "2023-04-12T12:17:51.265665Z",
     "end_time": "2023-04-12T12:17:51.296662Z"
    }
   },
   "outputs": [
    {
     "data": {
      "text/plain": "array([0., 2., 1., 1., 0., 1., 0., 0., 2., 1., 2., 2., 2., 1., 0., 0., 0.,\n       1., 1., 2., 0., 2., 1., 2., 2., 1., 1., 0., 2., 0.])"
     },
     "execution_count": 11,
     "metadata": {},
     "output_type": "execute_result"
    }
   ],
   "source": [
    "preds = []\n",
    "for i in range(len(test)):\n",
    "    distances = np.sqrt(np.sum((train - test[i])**2, axis = 1))\n",
    "    distances = distances.reshape(-1,1)\n",
    "    matrix = np.hstack([train_df, distances])\n",
    "    sorted_matrix = matrix[matrix[:,-1].argsort()]\n",
    "    neighbours = [sorted_matrix[i][-2] for i in range(5)]\n",
    "    pred_value = np.mean(neighbours)\n",
    "    preds.append(pred_value)\n",
    "knn_scratch_pred = np.array(preds)\n",
    "knn_scratch_pred\n"
   ]
  },
  {
   "cell_type": "markdown",
   "id": "07114502-8d16-4380-9786-3ad15df03751",
   "metadata": {
    "tags": []
   },
   "source": [
    "### MODEL EVALUATION"
   ]
  },
  {
   "cell_type": "code",
   "execution_count": 12,
   "id": "4e6b1406-87cb-40bb-afee-ecc1aa29e981",
   "metadata": {
    "ExecuteTime": {
     "start_time": "2023-04-12T12:17:51.278663Z",
     "end_time": "2023-04-12T12:17:51.297664Z"
    }
   },
   "outputs": [
    {
     "name": "stdout",
     "output_type": "stream",
     "text": [
      "[[10  0  0]\n",
      " [ 0 10  0]\n",
      " [ 0  0 10]]\n",
      "              precision    recall  f1-score   support\n",
      "\n",
      "           0       1.00      1.00      1.00        10\n",
      "           1       1.00      1.00      1.00        10\n",
      "           2       1.00      1.00      1.00        10\n",
      "\n",
      "    accuracy                           1.00        30\n",
      "   macro avg       1.00      1.00      1.00        30\n",
      "weighted avg       1.00      1.00      1.00        30\n",
      "\n"
     ]
    }
   ],
   "source": [
    "print(confusion_matrix(y_test, knn_scratch_pred))\n",
    "print(classification_report(y_test, knn_scratch_pred))"
   ]
  },
  {
   "cell_type": "code",
   "execution_count": 13,
   "id": "dd5ad09e-9cf3-41f8-9c13-c0f0a51089ed",
   "metadata": {
    "ExecuteTime": {
     "start_time": "2023-04-12T12:17:51.294664Z",
     "end_time": "2023-04-12T12:17:51.322008Z"
    }
   },
   "outputs": [
    {
     "name": "stdout",
     "output_type": "stream",
     "text": [
      "Accuracy : 100.00 %\n"
     ]
    }
   ],
   "source": [
    "print(\"Accuracy : %.2f %%\" %(100*accuracy_score(y_test, knn_scratch_pred)))\n"
   ]
  },
  {
   "cell_type": "code",
   "execution_count": 13,
   "id": "a563411b-9767-4419-ba88-2ee36395a20e",
   "metadata": {
    "ExecuteTime": {
     "start_time": "2023-04-12T12:17:51.309665Z",
     "end_time": "2023-04-12T12:17:51.353029Z"
    }
   },
   "outputs": [],
   "source": []
  }
 ],
 "metadata": {
  "kernelspec": {
   "display_name": "Python 3 (ipykernel)",
   "language": "python",
   "name": "python3"
  },
  "language_info": {
   "codemirror_mode": {
    "name": "ipython",
    "version": 3
   },
   "file_extension": ".py",
   "mimetype": "text/x-python",
   "name": "python",
   "nbconvert_exporter": "python",
   "pygments_lexer": "ipython3",
   "version": "3.9.13"
  }
 },
 "nbformat": 4,
 "nbformat_minor": 5
}
