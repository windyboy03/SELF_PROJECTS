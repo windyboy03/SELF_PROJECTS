{
 "cells": [
  {
   "cell_type": "markdown",
   "source": [
    "### LYRICS Classification"
   ],
   "metadata": {
    "collapsed": false
   }
  },
  {
   "cell_type": "code",
   "execution_count": null,
   "metadata": {
    "collapsed": true,
    "ExecuteTime": {
     "start_time": "2023-05-09T01:19:07.681392Z",
     "end_time": "2023-05-09T01:19:07.701389Z"
    },
    "pycharm": {
     "is_executing": true
    }
   },
   "outputs": [],
   "source": [
    "import os\n",
    "import pandas as pd\n",
    "import numpy as np\n",
    "import nltk\n",
    "import txt_preprocess\n",
    "import split_dataset as sp\n",
    "import SVM2\n",
    "import accuracy_metric\n",
    "from LinearRegression import MultipleLinearRegression\n",
    "from sklearn.feature_extraction.text import TfidfVectorizer"
   ]
  },
  {
   "cell_type": "code",
   "execution_count": 11,
   "outputs": [
    {
     "name": "stdout",
     "output_type": "stream",
     "text": [
      "F:\\pycham\\PycharmProjects\\pythonProject\\lyrics\\cher\\cher_88degrees.txt\n",
      "F:\\pycham\\PycharmProjects\\pythonProject\\lyrics\\cher\\cher_adifferentkindoflovesong.txt\n",
      "F:\\pycham\\PycharmProjects\\pythonProject\\lyrics\\cher\\cher_afterall.txt\n",
      "F:\\pycham\\PycharmProjects\\pythonProject\\lyrics\\cher\\cher_again.txt\n",
      "F:\\pycham\\PycharmProjects\\pythonProject\\lyrics\\cher\\cher_alfie.txt\n",
      "F:\\pycham\\PycharmProjects\\pythonProject\\lyrics\\cher\\cher_aliveagain.txt\n",
      "F:\\pycham\\PycharmProjects\\pythonProject\\lyrics\\cher\\cher_allbecauseofyou.txt\n",
      "F:\\pycham\\PycharmProjects\\pythonProject\\lyrics\\cher\\cher_allireallywanttodo.txt\n",
      "F:\\pycham\\PycharmProjects\\pythonProject\\lyrics\\cher\\cher_allornothing.txt\n",
      "F:\\pycham\\PycharmProjects\\pythonProject\\lyrics\\cher\\cher_amiblue.txt\n",
      "F:\\pycham\\PycharmProjects\\pythonProject\\lyrics\\cher\\cher_angelsrunning.txt\n",
      "F:\\pycham\\PycharmProjects\\pythonProject\\lyrics\\cher\\cher_applesdontfallfarfromthetree.txt\n",
      "F:\\pycham\\PycharmProjects\\pythonProject\\lyrics\\cher\\cher_awomansstory.txt\n",
      "F:\\pycham\\PycharmProjects\\pythonProject\\lyrics\\cher\\cher_aworldwithoutheroes.txt\n",
      "F:\\pycham\\PycharmProjects\\pythonProject\\lyrics\\cher\\cher_ayounggirluneenfante.txt\n",
      "F:\\pycham\\PycharmProjects\\pythonProject\\lyrics\\cher\\cher_backonthestreetagain.txt\n",
      "F:\\pycham\\PycharmProjects\\pythonProject\\lyrics\\cher\\cher_bangbang.txt\n",
      "F:\\pycham\\PycharmProjects\\pythonProject\\lyrics\\cher\\cher_bangbangmybabyshotmedown.txt\n",
      "F:\\pycham\\PycharmProjects\\pythonProject\\lyrics\\cher\\cher_behindthedoor.txt\n",
      "F:\\pycham\\PycharmProjects\\pythonProject\\lyrics\\cher\\cher_believe.txt\n",
      "F:\\pycham\\PycharmProjects\\pythonProject\\lyrics\\cher\\cher_bellbottomblues.txt\n",
      "F:\\pycham\\PycharmProjects\\pythonProject\\lyrics\\cher\\cher_blowininthewind.txt\n",
      "F:\\pycham\\PycharmProjects\\pythonProject\\lyrics\\cher\\cher_bodytobodyhearttoheart.txt\n",
      "F:\\pycham\\PycharmProjects\\pythonProject\\lyrics\\cher\\cher_bornwiththehunger.txt\n",
      "F:\\pycham\\PycharmProjects\\pythonProject\\lyrics\\cher\\cher_borrowedtime.txt\n",
      "F:\\pycham\\PycharmProjects\\pythonProject\\lyrics\\cher\\cher_boysandgirls.txt\n",
      "F:\\pycham\\PycharmProjects\\pythonProject\\lyrics\\cher\\cher_buticantloveyoumore.txt\n",
      "F:\\pycham\\PycharmProjects\\pythonProject\\lyrics\\cher\\cher_bymyself.txt\n",
      "F:\\pycham\\PycharmProjects\\pythonProject\\lyrics\\cher\\cher_canyoufool.txt\n",
      "F:\\pycham\\PycharmProjects\\pythonProject\\lyrics\\cher\\cher_carnival.txt\n",
      "F:\\pycham\\PycharmProjects\\pythonProject\\lyrics\\cher\\cher_carouselman.txt\n",
      "F:\\pycham\\PycharmProjects\\pythonProject\\lyrics\\cher\\cher_catchthewind.txt\n",
      "F:\\pycham\\PycharmProjects\\pythonProject\\lyrics\\cher\\cher_chastityssongbandofthieves.txt\n",
      "F:\\pycham\\PycharmProjects\\pythonProject\\lyrics\\cher\\cher_chastitysun.txt\n",
      "F:\\pycham\\PycharmProjects\\pythonProject\\lyrics\\cher\\cher_chiquitita.txt\n",
      "F:\\pycham\\PycharmProjects\\pythonProject\\lyrics\\cher\\cher_chiquititaspanishversion.txt\n",
      "F:\\pycham\\PycharmProjects\\pythonProject\\lyrics\\cher\\cher_classified1a.txt\n",
      "F:\\pycham\\PycharmProjects\\pythonProject\\lyrics\\cher\\cher_clicksong.txt\n",
      "F:\\pycham\\PycharmProjects\\pythonProject\\lyrics\\cher\\cher_comeandstaywithme.txt\n",
      "F:\\pycham\\PycharmProjects\\pythonProject\\lyrics\\cher\\cher_cometoyourwindow.txt\n",
      "F:\\pycham\\PycharmProjects\\pythonProject\\lyrics\\cher\\cher_couldvebeenyou.txt\n",
      "F:\\pycham\\PycharmProjects\\pythonProject\\lyrics\\cher\\cher_crylikeababy.txt\n",
      "F:\\pycham\\PycharmProjects\\pythonProject\\lyrics\\cher\\cher_crymyselftosleep.txt\n",
      "F:\\pycham\\PycharmProjects\\pythonProject\\lyrics\\cher\\cher_dancingqueen.txt\n",
      "F:\\pycham\\PycharmProjects\\pythonProject\\lyrics\\cher\\cher_dangeroustimes.txt\n",
      "F:\\pycham\\PycharmProjects\\pythonProject\\lyrics\\cher\\cher_dannyboy.txt\n",
      "F:\\pycham\\PycharmProjects\\pythonProject\\lyrics\\cher\\cher_darklady.txt\n",
      "F:\\pycham\\PycharmProjects\\pythonProject\\lyrics\\cher\\cher_davidssong.txt\n",
      "F:\\pycham\\PycharmProjects\\pythonProject\\lyrics\\cher\\cher_disastercake.txt\n",
      "F:\\pycham\\PycharmProjects\\pythonProject\\lyrics\\cher\\cher_dixie.txt\n",
      "F:\\pycham\\PycharmProjects\\pythonProject\\lyrics\\cher\\cher_dixiegirl.txt\n",
      "F:\\pycham\\PycharmProjects\\pythonProject\\lyrics\\cher\\cher_doesanybodyreallyfallinloveanymore.txt\n",
      "F:\\pycham\\PycharmProjects\\pythonProject\\lyrics\\cher\\cher_doievercrossyourmind.txt\n",
      "F:\\pycham\\PycharmProjects\\pythonProject\\lyrics\\cher\\cher_dontcomearoundtonight.txt\n",
      "F:\\pycham\\PycharmProjects\\pythonProject\\lyrics\\cher\\cher_donthideyourlove.txt\n",
      "F:\\pycham\\PycharmProjects\\pythonProject\\lyrics\\cher\\cher_dontthinktwice.txt\n",
      "F:\\pycham\\PycharmProjects\\pythonProject\\lyrics\\cher\\cher_donttrytoclosearose.txt\n",
      "F:\\pycham\\PycharmProjects\\pythonProject\\lyrics\\cher\\cher_dorightwomandorightman.txt\n",
      "F:\\pycham\\PycharmProjects\\pythonProject\\lyrics\\cher\\cher_dovelamore.txt\n",
      "F:\\pycham\\PycharmProjects\\pythonProject\\lyrics\\cher\\cher_dowhatyougottado.txt\n",
      "F:\\pycham\\PycharmProjects\\pythonProject\\lyrics\\cher\\cher_downdowndown.txt\n",
      "F:\\pycham\\PycharmProjects\\pythonProject\\lyrics\\cher\\cher_doyoubelieveinmagic.txt\n",
      "F:\\pycham\\PycharmProjects\\pythonProject\\lyrics\\cher\\cher_dreambaby.txt\n",
      "F:\\pycham\\PycharmProjects\\pythonProject\\lyrics\\cher\\cher_dressedtokill.txt\n",
      "F:\\pycham\\PycharmProjects\\pythonProject\\lyrics\\cher\\cher_earlymorningstrangers.txt\n",
      "F:\\pycham\\PycharmProjects\\pythonProject\\lyrics\\cher\\cher_easytobehard.txt\n",
      "F:\\pycham\\PycharmProjects\\pythonProject\\lyrics\\cher\\cher_elusivebutterfly.txt\n",
      "F:\\pycham\\PycharmProjects\\pythonProject\\lyrics\\cher\\cher_emotionalfire.txt\n",
      "F:\\pycham\\PycharmProjects\\pythonProject\\lyrics\\cher\\cher_fastcompany.txt\n",
      "F:\\pycham\\PycharmProjects\\pythonProject\\lyrics\\cher\\cher_favouritescars.txt\n",
      "F:\\pycham\\PycharmProjects\\pythonProject\\lyrics\\cher\\cher_fernando.txt\n",
      "F:\\pycham\\PycharmProjects\\pythonProject\\lyrics\\cher\\cher_fernando710922.txt\n",
      "F:\\pycham\\PycharmProjects\\pythonProject\\lyrics\\cher\\cher_fireandrain.txt\n",
      "F:\\pycham\\PycharmProjects\\pythonProject\\lyrics\\cher\\cher_firesofeden.txt\n",
      "F:\\pycham\\PycharmProjects\\pythonProject\\lyrics\\cher\\cher_fittofly.txt\n",
      "F:\\pycham\\PycharmProjects\\pythonProject\\lyrics\\cher\\cher_flashback.txt\n",
      "F:\\pycham\\PycharmProjects\\pythonProject\\lyrics\\cher\\cher_forwhatitsworth.txt\n",
      "F:\\pycham\\PycharmProjects\\pythonProject\\lyrics\\cher\\cher_games.txt\n",
      "F:\\pycham\\PycharmProjects\\pythonProject\\lyrics\\cher\\cher_geronimoscadillac.txt\n",
      "F:\\pycham\\PycharmProjects\\pythonProject\\lyrics\\cher\\cher_gimmegimmegimmeamanaftermidnight.txt\n",
      "F:\\pycham\\PycharmProjects\\pythonProject\\lyrics\\cher\\cher_girldontcome.txt\n",
      "F:\\pycham\\PycharmProjects\\pythonProject\\lyrics\\cher\\cher_gitdownguitargroupie.txt\n",
      "F:\\pycham\\PycharmProjects\\pythonProject\\lyrics\\cher\\cher_giveourloveafightinchance.txt\n",
      "F:\\pycham\\PycharmProjects\\pythonProject\\lyrics\\cher\\cher_gonow.txt\n",
      "F:\\pycham\\PycharmProjects\\pythonProject\\lyrics\\cher\\cher_gypsiestrampsandthieves.txt\n",
      "F:\\pycham\\PycharmProjects\\pythonProject\\lyrics\\cher\\cher_halfbreed.txt\n",
      "F:\\pycham\\PycharmProjects\\pythonProject\\lyrics\\cher\\cher_happinessisjustathingcalledjoe.txt\n",
      "F:\\pycham\\PycharmProjects\\pythonProject\\lyrics\\cher\\cher_happywasthedaywemet.txt\n",
      "F:\\pycham\\PycharmProjects\\pythonProject\\lyrics\\cher\\cher_hardenoughgettingoveryou.txt\n",
      "F:\\pycham\\PycharmProjects\\pythonProject\\lyrics\\cher\\cher_heaintheavyhesmybrother.txt\n",
      "F:\\pycham\\PycharmProjects\\pythonProject\\lyrics\\cher\\cher_heartofstone.txt\n",
      "F:\\pycham\\PycharmProjects\\pythonProject\\lyrics\\cher\\cher_hellneverknow.txt\n",
      "F:\\pycham\\PycharmProjects\\pythonProject\\lyrics\\cher\\cher_hellonwheels.txt\n",
      "F:\\pycham\\PycharmProjects\\pythonProject\\lyrics\\cher\\cher_hewasbeautiful.txt\n",
      "F:\\pycham\\PycharmProjects\\pythonProject\\lyrics\\cher\\cher_heyjoe.txt\n",
      "F:\\pycham\\PycharmProjects\\pythonProject\\lyrics\\cher\\cher_holdinoutforlove.txt\n",
      "F:\\pycham\\PycharmProjects\\pythonProject\\lyrics\\cher\\cher_holysmoke.txt\n",
      "F:\\pycham\\PycharmProjects\\pythonProject\\lyrics\\cher\\cher_homewardbound.txt\n",
      "F:\\pycham\\PycharmProjects\\pythonProject\\lyrics\\cher\\cher_houseisnotahome.txt\n",
      "F:\\pycham\\PycharmProjects\\pythonProject\\lyrics\\cher\\cher_howcanyoumendabrokenheart.txt\n",
      "F:\\pycham\\PycharmProjects\\pythonProject\\lyrics\\cher\\cher_howlonghasthisbeengoingon.txt\n",
      "F:\\pycham\\PycharmProjects\\pythonProject\\lyrics\\cher\\cher_ibelieve.txt\n",
      "F:\\pycham\\PycharmProjects\\pythonProject\\lyrics\\cher\\cher_idonthavetosleeptodream.txt\n",
      "F:\\pycham\\PycharmProjects\\pythonProject\\lyrics\\cher\\cher_idratherbelieveinyou.txt\n",
      "F:\\pycham\\PycharmProjects\\pythonProject\\lyrics\\cher\\cher_ifeelsomethingintheairmagicintheair.txt\n",
      "F:\\pycham\\PycharmProjects\\pythonProject\\lyrics\\cher\\cher_ificouldturnbacktime.txt\n",
      "F:\\pycham\\PycharmProjects\\pythonProject\\lyrics\\cher\\cher_ifiknewthen.txt\n",
      "F:\\pycham\\PycharmProjects\\pythonProject\\lyrics\\cher\\cher_ifoundsomeone.txt\n",
      "F:\\pycham\\PycharmProjects\\pythonProject\\lyrics\\cher\\cher_ifoundyoulove.txt\n",
      "F:\\pycham\\PycharmProjects\\pythonProject\\lyrics\\cher\\cher_igotitbadandthataintgood.txt\n",
      "F:\\pycham\\PycharmProjects\\pythonProject\\lyrics\\cher\\cher_igotosleep.txt\n",
      "F:\\pycham\\PycharmProjects\\pythonProject\\lyrics\\cher\\cher_igotyoubabe.txt\n",
      "F:\\pycham\\PycharmProjects\\pythonProject\\lyrics\\cher\\cher_ihatetosleepalone.txt\n",
      "F:\\pycham\\PycharmProjects\\pythonProject\\lyrics\\cher\\cher_ihopeyoufindit.txt\n",
      "F:\\pycham\\PycharmProjects\\pythonProject\\lyrics\\cher\\cher_iknowyoudontloveme.txt\n",
      "F:\\pycham\\PycharmProjects\\pythonProject\\lyrics\\cher\\cher_illneverstoplovingyou.txt\n",
      "F:\\pycham\\PycharmProjects\\pythonProject\\lyrics\\cher\\cher_ilovemakinlovetoyou.txt\n",
      "F:\\pycham\\PycharmProjects\\pythonProject\\lyrics\\cher\\cher_imblowinaway.txt\n",
      "F:\\pycham\\PycharmProjects\\pythonProject\\lyrics\\cher\\cher_iminthemiddle.txt\n",
      "F:\\pycham\\PycharmProjects\\pythonProject\\lyrics\\cher\\cher_impossibledream.txt\n",
      "F:\\pycham\\PycharmProjects\\pythonProject\\lyrics\\cher\\cher_inforthenight.txt\n",
      "F:\\pycham\\PycharmProjects\\pythonProject\\lyrics\\cher\\cher_iparalyze.txt\n",
      "F:\\pycham\\PycharmProjects\\pythonProject\\lyrics\\cher\\cher_isawamanandhedancedwithhiswife.txt\n",
      "F:\\pycham\\PycharmProjects\\pythonProject\\lyrics\\cher\\cher_island.txt\n",
      "F:\\pycham\\PycharmProjects\\pythonProject\\lyrics\\cher\\cher_italladdsupnow.txt\n",
      "F:\\pycham\\PycharmProjects\\pythonProject\\lyrics\\cher\\cher_itgetsmewhereiwanttogo.txt\n",
      "F:\\pycham\\PycharmProjects\\pythonProject\\lyrics\\cher\\cher_ithrewitallaway.txt\n",
      "F:\\pycham\\PycharmProjects\\pythonProject\\lyrics\\cher\\cher_itmightaswellstaymondayfromnowon.txt\n",
      "F:\\pycham\\PycharmProjects\\pythonProject\\lyrics\\cher\\cher_itsacryinshame.txt\n",
      "F:\\pycham\\PycharmProjects\\pythonProject\\lyrics\\cher\\cher_itsamansmansmansworld.txt\n",
      "F:\\pycham\\PycharmProjects\\pythonProject\\lyrics\\cher\\cher_itsnotunusual.txt\n",
      "F:\\pycham\\PycharmProjects\\pythonProject\\lyrics\\cher\\cher_itstoolatetolovemenow.txt\n",
      "F:\\pycham\\PycharmProjects\\pythonProject\\lyrics\\cher\\cher_iwalkalone.txt\n",
      "F:\\pycham\\PycharmProjects\\pythonProject\\lyrics\\cher\\cher_iwalkonguildedsplinters.txt\n",
      "F:\\pycham\\PycharmProjects\\pythonProject\\lyrics\\cher\\cher_iwantyou.txt\n",
      "F:\\pycham\\PycharmProjects\\pythonProject\\lyrics\\cher\\cher_iwasntready.txt\n",
      "F:\\pycham\\PycharmProjects\\pythonProject\\lyrics\\cher\\cher_iwillwaitforyou.txt\n",
      "F:\\pycham\\PycharmProjects\\pythonProject\\lyrics\\cher\\cher_iwouldnttreatadogthewayyoutreatedme.txt\n",
      "F:\\pycham\\PycharmProjects\\pythonProject\\lyrics\\cher\\cher_jolsonmedley.txt\n",
      "F:\\pycham\\PycharmProjects\\pythonProject\\lyrics\\cher\\cher_julie.txt\n",
      "F:\\pycham\\PycharmProjects\\pythonProject\\lyrics\\cher\\cher_justenoughtokeepmehanginon.txt\n",
      "F:\\pycham\\PycharmProjects\\pythonProject\\lyrics\\cher\\cher_justlikejessejames.txt\n",
      "F:\\pycham\\PycharmProjects\\pythonProject\\lyrics\\cher\\cher_justthisonetime.txt\n",
      "F:\\pycham\\PycharmProjects\\pythonProject\\lyrics\\cher\\cher_justwhativebeenlookinfor.txt\n",
      "F:\\pycham\\PycharmProjects\\pythonProject\\lyrics\\cher\\cher_kisstokiss.txt\n",
      "F:\\pycham\\PycharmProjects\\pythonProject\\lyrics\\cher\\cher_knockonwood.txt\n",
      "F:\\pycham\\PycharmProjects\\pythonProject\\lyrics\\cher\\cher_laplane.txt\n",
      "F:\\pycham\\PycharmProjects\\pythonProject\\lyrics\\cher\\cher_laybabylay.txt\n",
      "F:\\pycham\\PycharmProjects\\pythonProject\\lyrics\\cher\\cher_letmedowneasy.txt\n",
      "F:\\pycham\\PycharmProjects\\pythonProject\\lyrics\\cher\\cher_letthisbealessontoyou.txt\n",
      "F:\\pycham\\PycharmProjects\\pythonProject\\lyrics\\cher\\cher_lietome.txt\n",
      "F:\\pycham\\PycharmProjects\\pythonProject\\lyrics\\cher\\cher_likearollingstone.txt\n",
      "F:\\pycham\\PycharmProjects\\pythonProject\\lyrics\\cher\\cher_livinginahousedivided.txt\n",
      "F:\\pycham\\PycharmProjects\\pythonProject\\lyrics\\cher\\cher_longdistanceloveaffair.txt\n",
      "F:\\pycham\\PycharmProjects\\pythonProject\\lyrics\\cher\\cher_lookatme.txt\n",
      "F:\\pycham\\PycharmProjects\\pythonProject\\lyrics\\cher\\cher_loveandunderstanding.txt\n",
      "F:\\pycham\\PycharmProjects\\pythonProject\\lyrics\\cher\\cher_loveenough.txt\n",
      "F:\\pycham\\PycharmProjects\\pythonProject\\lyrics\\cher\\cher_lovehurts.txt\n",
      "F:\\pycham\\PycharmProjects\\pythonProject\\lyrics\\cher\\cher_lovehurts312103.txt\n",
      "F:\\pycham\\PycharmProjects\\pythonProject\\lyrics\\cher\\cher_loveisalonelyplacewithoutyou.txt\n",
      "F:\\pycham\\PycharmProjects\\pythonProject\\lyrics\\cher\\cher_loveisthegroove.txt\n",
      "F:\\pycham\\PycharmProjects\\pythonProject\\lyrics\\cher\\cher_loveme.txt\n",
      "F:\\pycham\\PycharmProjects\\pythonProject\\lyrics\\cher\\cher_loveonarooftop.txt\n",
      "F:\\pycham\\PycharmProjects\\pythonProject\\lyrics\\cher\\cher_loveoneanother.txt\n",
      "F:\\pycham\\PycharmProjects\\pythonProject\\lyrics\\cher\\cher_lovepaintheresapaininmyheart.txt\n",
      "F:\\pycham\\PycharmProjects\\pythonProject\\lyrics\\cher\\cher_loversforever.txt\n",
      "F:\\pycham\\PycharmProjects\\pythonProject\\lyrics\\cher\\cher_lovesohigh.txt\n",
      "F:\\pycham\\PycharmProjects\\pythonProject\\lyrics\\cher\\cher_lovethedeviloutofya.txt\n",
      "F:\\pycham\\PycharmProjects\\pythonProject\\lyrics\\cher\\cher_mainman.txt\n",
      "F:\\pycham\\PycharmProjects\\pythonProject\\lyrics\\cher\\cher_makethemanloveme.txt\n",
      "F:\\pycham\\PycharmProjects\\pythonProject\\lyrics\\cher\\cher_mamawhenmydollieshavebabies.txt\n",
      "F:\\pycham\\PycharmProjects\\pythonProject\\lyrics\\cher\\cher_mammamia.txt\n",
      "F:\\pycham\\PycharmProjects\\pythonProject\\lyrics\\cher\\cher_mastersofwar.txt\n",
      "F:\\pycham\\PycharmProjects\\pythonProject\\lyrics\\cher\\cher_melody.txt\n",
      "F:\\pycham\\PycharmProjects\\pythonProject\\lyrics\\cher\\cher_milord.txt\n",
      "F:\\pycham\\PycharmProjects\\pythonProject\\lyrics\\cher\\cher_mirrorimage.txt\n",
      "F:\\pycham\\PycharmProjects\\pythonProject\\lyrics\\cher\\cher_misssubwayof1952.txt\n",
      "F:\\pycham\\PycharmProjects\\pythonProject\\lyrics\\cher\\cher_mommalooksharp.txt\n",
      "F:\\pycham\\PycharmProjects\\pythonProject\\lyrics\\cher\\cher_morethanyouknow.txt\n",
      "F:\\pycham\\PycharmProjects\\pythonProject\\lyrics\\cher\\cher_moveme.txt\n",
      "F:\\pycham\\PycharmProjects\\pythonProject\\lyrics\\cher\\cher_mrsoul.txt\n",
      "F:\\pycham\\PycharmProjects\\pythonProject\\lyrics\\cher\\cher_mylove.txt\n",
      "F:\\pycham\\PycharmProjects\\pythonProject\\lyrics\\cher\\cher_mylove318663.txt\n",
      "F:\\pycham\\PycharmProjects\\pythonProject\\lyrics\\cher\\cher_mysongtoofargone.txt\n",
      "F:\\pycham\\PycharmProjects\\pythonProject\\lyrics\\cher\\cher_needlesandpins.txt\n",
      "F:\\pycham\\PycharmProjects\\pythonProject\\lyrics\\cher\\cher_neverbeentospain.txt\n",
      "F:\\pycham\\PycharmProjects\\pythonProject\\lyrics\\cher\\cher_nevershouldvestarted.txt\n",
      "F:\\pycham\\PycharmProjects\\pythonProject\\lyrics\\cher\\cher_notenoughloveintheworld.txt\n",
      "F:\\pycham\\PycharmProjects\\pythonProject\\lyrics\\cher\\cher_olmanriver.txt\n",
      "F:\\pycham\\PycharmProjects\\pythonProject\\lyrics\\cher\\cher_onebyone.txt\n",
      "F:\\pycham\\PycharmProjects\\pythonProject\\lyrics\\cher\\cher_onehonestman.txt\n",
      "F:\\pycham\\PycharmProjects\\pythonProject\\lyrics\\cher\\cher_oneofus.txt\n",
      "F:\\pycham\\PycharmProjects\\pythonProject\\lyrics\\cher\\cher_onesmallstep.txt\n",
      "F:\\pycham\\PycharmProjects\\pythonProject\\lyrics\\cher\\cher_oogaboo.txt\n",
      "F:\\pycham\\PycharmProjects\\pythonProject\\lyrics\\cher\\cher_ourdaywillcome.txt\n",
      "F:\\pycham\\PycharmProjects\\pythonProject\\lyrics\\cher\\cher_ourladyofsanfrancisco.txt\n",
      "F:\\pycham\\PycharmProjects\\pythonProject\\lyrics\\cher\\cher_outrageous.txt\n",
      "F:\\pycham\\PycharmProjects\\pythonProject\\lyrics\\cher\\cher_paradiseishere.txt\n",
      "F:\\pycham\\PycharmProjects\\pythonProject\\lyrics\\cher\\cher_perfection.txt\n",
      "F:\\pycham\\PycharmProjects\\pythonProject\\lyrics\\cher\\cher_piedpiper.txt\n",
      "F:\\pycham\\PycharmProjects\\pythonProject\\lyrics\\cher\\cher_pirate.txt\n",
      "F:\\pycham\\PycharmProjects\\pythonProject\\lyrics\\cher\\cher_pleasedonttellme.txt\n",
      "F:\\pycham\\PycharmProjects\\pythonProject\\lyrics\\cher\\cher_pride.txt\n",
      "F:\\pycham\\PycharmProjects\\pythonProject\\lyrics\\cher\\cher_prisoner.txt\n",
      "F:\\pycham\\PycharmProjects\\pythonProject\\lyrics\\cher\\cher_rainrain.txt\n",
      "F:\\pycham\\PycharmProjects\\pythonProject\\lyrics\\cher\\cher_reallove.txt\n",
      "F:\\pycham\\PycharmProjects\\pythonProject\\lyrics\\cher\\cher_reasontobelieve.txt\n",
      "F:\\pycham\\PycharmProjects\\pythonProject\\lyrics\\cher\\cher_red.txt\n",
      "F:\\pycham\\PycharmProjects\\pythonProject\\lyrics\\cher\\cher_rescueme.txt\n",
      "F:\\pycham\\PycharmProjects\\pythonProject\\lyrics\\cher\\cher_rockandrolldoctor.txt\n",
      "F:\\pycham\\PycharmProjects\\pythonProject\\lyrics\\cher\\cher_rudy.txt\n",
      "F:\\pycham\\PycharmProjects\\pythonProject\\lyrics\\cher\\cher_runaway.txt\n",
      "F:\\pycham\\PycharmProjects\\pythonProject\\lyrics\\cher\\cher_runnin.txt\n",
      "F:\\pycham\\PycharmProjects\\pythonProject\\lyrics\\cher\\cher_savethechildren.txt\n",
      "F:\\pycham\\PycharmProjects\\pythonProject\\lyrics\\cher\\cher_saveupallyourtears.txt\n",
      "F:\\pycham\\PycharmProjects\\pythonProject\\lyrics\\cher\\cher_saytheword.txt\n",
      "F:\\pycham\\PycharmProjects\\pythonProject\\lyrics\\cher\\cher_saywhatsonyourmind.txt\n",
      "F:\\pycham\\PycharmProjects\\pythonProject\\lyrics\\cher\\cher_sendthemanover.txt\n",
      "F:\\pycham\\PycharmProjects\\pythonProject\\lyrics\\cher\\cher_shadowdreamsong.txt\n",
      "F:\\pycham\\PycharmProjects\\pythonProject\\lyrics\\cher\\cher_shapeofthingstocome.txt\n",
      "F:\\pycham\\PycharmProjects\\pythonProject\\lyrics\\cher\\cher_shelovestohearthemusic.txt\n",
      "F:\\pycham\\PycharmProjects\\pythonProject\\lyrics\\cher\\cher_shoppin.txt\n",
      "F:\\pycham\\PycharmProjects\\pythonProject\\lyrics\\cher\\cher_silverwingsgoldenrings.txt\n",
      "F:\\pycham\\PycharmProjects\\pythonProject\\lyrics\\cher\\cher_singforyoursupper.txt\n",
      "F:\\pycham\\PycharmProjects\\pythonProject\\lyrics\\cher\\cher_sirens.txt\n",
      "F:\\pycham\\PycharmProjects\\pythonProject\\lyrics\\cher\\cher_sistersofmercy.txt\n",
      "F:\\pycham\\PycharmProjects\\pythonProject\\lyrics\\cher\\cher_sittinonthedockofthebay.txt\n",
      "F:\\pycham\\PycharmProjects\\pythonProject\\lyrics\\cher\\cher_skindeep.txt\n",
      "F:\\pycham\\PycharmProjects\\pythonProject\\lyrics\\cher\\cher_songcalledchildren.txt\n",
      "F:\\pycham\\PycharmProjects\\pythonProject\\lyrics\\cher\\cher_songforyou.txt\n",
      "F:\\pycham\\PycharmProjects\\pythonProject\\lyrics\\cher\\cher_sos.txt\n",
      "F:\\pycham\\PycharmProjects\\pythonProject\\lyrics\\cher\\cher_spring.txt\n",
      "F:\\pycham\\PycharmProjects\\pythonProject\\lyrics\\cher\\cher_stars.txt\n",
      "F:\\pycham\\PycharmProjects\\pythonProject\\lyrics\\cher\\cher_startingover.txt\n",
      "F:\\pycham\\PycharmProjects\\pythonProject\\lyrics\\cher\\cher_still.txt\n",
      "F:\\pycham\\PycharmProjects\\pythonProject\\lyrics\\cher\\cher_stillinlovewithyou.txt\n",
      "F:\\pycham\\PycharmProjects\\pythonProject\\lyrics\\cher\\cher_strongenough.txt\n",
      "F:\\pycham\\PycharmProjects\\pythonProject\\lyrics\\cher\\cher_sunny.txt\n",
      "F:\\pycham\\PycharmProjects\\pythonProject\\lyrics\\cher\\cher_superstar.txt\n",
      "F:\\pycham\\PycharmProjects\\pythonProject\\lyrics\\cher\\cher_takeitfromtheboys.txt\n",
      "F:\\pycham\\PycharmProjects\\pythonProject\\lyrics\\cher\\cher_takeitlikeaman.txt\n",
      "F:\\pycham\\PycharmProjects\\pythonProject\\lyrics\\cher\\cher_takemeforalittlewhile.txt\n",
      "F:\\pycham\\PycharmProjects\\pythonProject\\lyrics\\cher\\cher_takemehome.txt\n",
      "F:\\pycham\\PycharmProjects\\pythonProject\\lyrics\\cher\\cher_takinbackmyheart.txt\n",
      "F:\\pycham\\PycharmProjects\\pythonProject\\lyrics\\cher\\cher_taxitaxi.txt\n",
      "F:\\pycham\\PycharmProjects\\pythonProject\\lyrics\\cher\\cher_thebellsofrhymney.txt\n",
      "F:\\pycham\\PycharmProjects\\pythonProject\\lyrics\\cher\\cher_thebiggertheycomethehardertheyfall.txt\n",
      "F:\\pycham\\PycharmProjects\\pythonProject\\lyrics\\cher\\cher_thebookoflove.txt\n",
      "F:\\pycham\\PycharmProjects\\pythonProject\\lyrics\\cher\\cher_thecruelwar.txt\n",
      "F:\\pycham\\PycharmProjects\\pythonProject\\lyrics\\cher\\cher_thefallkurtsblues.txt\n",
      "F:\\pycham\\PycharmProjects\\pythonProject\\lyrics\\cher\\cher_thefirsttime.txt\n",
      "F:\\pycham\\PycharmProjects\\pythonProject\\lyrics\\cher\\cher_thegirlfromipanema.txt\n",
      "F:\\pycham\\PycharmProjects\\pythonProject\\lyrics\\cher\\cher_thegreatestsongieverheard.txt\n",
      "F:\\pycham\\PycharmProjects\\pythonProject\\lyrics\\cher\\cher_thegreatestthing.txt\n",
      "F:\\pycham\\PycharmProjects\\pythonProject\\lyrics\\cher\\cher_thegunman.txt\n",
      "F:\\pycham\\PycharmProjects\\pythonProject\\lyrics\\cher\\cher_thelongandwindingroad.txt\n",
      "F:\\pycham\\PycharmProjects\\pythonProject\\lyrics\\cher\\cher_themanilove.txt\n",
      "F:\\pycham\\PycharmProjects\\pythonProject\\lyrics\\cher\\cher_themanthatgotaway.txt\n",
      "F:\\pycham\\PycharmProjects\\pythonProject\\lyrics\\cher\\cher_themusicsnogoodwithoutyou.txt\n",
      "F:\\pycham\\PycharmProjects\\pythonProject\\lyrics\\cher\\cher_thenameofthegame.txt\n",
      "F:\\pycham\\PycharmProjects\\pythonProject\\lyrics\\cher\\cher_thepower.txt\n",
      "F:\\pycham\\PycharmProjects\\pythonProject\\lyrics\\cher\\cher_therebutforfortune.txt\n",
      "F:\\pycham\\PycharmProjects\\pythonProject\\lyrics\\cher\\cher_thesamemistake.txt\n",
      "F:\\pycham\\PycharmProjects\\pythonProject\\lyrics\\cher\\cher_thesedays.txt\n",
      "F:\\pycham\\PycharmProjects\\pythonProject\\lyrics\\cher\\cher_theshoopshoopsongitsinhiskiss.txt\n",
      "F:\\pycham\\PycharmProjects\\pythonProject\\lyrics\\cher\\cher_thesunaintgonnashineanymore.txt\n",
      "F:\\pycham\\PycharmProjects\\pythonProject\\lyrics\\cher\\cher_thethoughtoflovingyou.txt\n",
      "F:\\pycham\\PycharmProjects\\pythonProject\\lyrics\\cher\\cher_thetimestheyareachangin.txt\n",
      "F:\\pycham\\PycharmProjects\\pythonProject\\lyrics\\cher\\cher_thetwelfthofnever.txt\n",
      "F:\\pycham\\PycharmProjects\\pythonProject\\lyrics\\cher\\cher_thewayoflove.txt\n",
      "F:\\pycham\\PycharmProjects\\pythonProject\\lyrics\\cher\\cher_thewinnertakesitall.txt\n",
      "F:\\pycham\\PycharmProjects\\pythonProject\\lyrics\\cher\\cher_thisgodforsakenday.txt\n",
      "F:\\pycham\\PycharmProjects\\pythonProject\\lyrics\\cher\\cher_thisisasongforthelonely.txt\n",
      "F:\\pycham\\PycharmProjects\\pythonProject\\lyrics\\cher\\cher_thunderstorm.txt\n",
      "F:\\pycham\\PycharmProjects\\pythonProject\\lyrics\\cher\\cher_time.txt\n",
      "F:\\pycham\\PycharmProjects\\pythonProject\\lyrics\\cher\\cher_tonightillbestayingherewithyou.txt\n",
      "F:\\pycham\\PycharmProjects\\pythonProject\\lyrics\\cher\\cher_touchandgo.txt\n",
      "F:\\pycham\\PycharmProjects\\pythonProject\\lyrics\\cher\\cher_trainofthought.txt\n",
      "F:\\pycham\\PycharmProjects\\pythonProject\\lyrics\\cher\\cher_twopeopleclingingtoathread.txt\n",
      "F:\\pycham\\PycharmProjects\\pythonProject\\lyrics\\cher\\cher_untilitstimeforyoutogo.txt\n",
      "F:\\pycham\\PycharmProjects\\pythonProject\\lyrics\\cher\\cher_walkinginmemphis.txt\n",
      "F:\\pycham\\PycharmProjects\\pythonProject\\lyrics\\cher\\cher_walkwithme.txt\n",
      "F:\\pycham\\PycharmProjects\\pythonProject\\lyrics\\cher\\cher_walls.txt\n",
      "F:\\pycham\\PycharmProjects\\pythonProject\\lyrics\\cher\\cher_warpaintandsoftfeathers.txt\n",
      "F:\\pycham\\PycharmProjects\\pythonProject\\lyrics\\cher\\cher_wasntitgood.txt\n",
      "F:\\pycham\\PycharmProjects\\pythonProject\\lyrics\\cher\\cher_waterloo.txt\n",
      "F:\\pycham\\PycharmProjects\\pythonProject\\lyrics\\cher\\cher_weallflyhome.txt\n",
      "F:\\pycham\\PycharmProjects\\pythonProject\\lyrics\\cher\\cher_weallsleepalone.txt\n",
      "F:\\pycham\\PycharmProjects\\pythonProject\\lyrics\\cher\\cher_welcometoburlesque.txt\n",
      "F:\\pycham\\PycharmProjects\\pythonProject\\lyrics\\cher\\cher_weregonnamakeit.txt\n",
      "F:\\pycham\\PycharmProjects\\pythonProject\\lyrics\\cher\\cher_whataboutthemoonlight.txt\n",
      "F:\\pycham\\PycharmProjects\\pythonProject\\lyrics\\cher\\cher_whatllido.txt\n",
      "F:\\pycham\\PycharmProjects\\pythonProject\\lyrics\\cher\\cher_whenlovecallsyourname.txt\n",
      "F:\\pycham\\PycharmProjects\\pythonProject\\lyrics\\cher\\cher_whenloversbecomestrangers.txt\n",
      "F:\\pycham\\PycharmProjects\\pythonProject\\lyrics\\cher\\cher_whentheloveisgone.txt\n",
      "F:\\pycham\\PycharmProjects\\pythonProject\\lyrics\\cher\\cher_whenthemoneysgone.txt\n",
      "F:\\pycham\\PycharmProjects\\pythonProject\\lyrics\\cher\\cher_whenyoufindoutwhereyouregoinletmeknow.txt\n",
      "F:\\pycham\\PycharmProjects\\pythonProject\\lyrics\\cher\\cher_whenyouwalkaway.txt\n",
      "F:\\pycham\\PycharmProjects\\pythonProject\\lyrics\\cher\\cher_wheredoyougo.txt\n",
      "F:\\pycham\\PycharmProjects\\pythonProject\\lyrics\\cher\\cher_whoyougonnabelieve.txt\n",
      "F:\\pycham\\PycharmProjects\\pythonProject\\lyrics\\cher\\cher_whywasiborn.txt\n",
      "F:\\pycham\\PycharmProjects\\pythonProject\\lyrics\\cher\\cher_willyoulovemetomorrow.txt\n",
      "F:\\pycham\\PycharmProjects\\pythonProject\\lyrics\\cher\\cher_willyouwaitforme.txt\n",
      "F:\\pycham\\PycharmProjects\\pythonProject\\lyrics\\cher\\cher_withorwithoutyou.txt\n",
      "F:\\pycham\\PycharmProjects\\pythonProject\\lyrics\\cher\\cher_womansworld.txt\n",
      "F:\\pycham\\PycharmProjects\\pythonProject\\lyrics\\cher\\cher_workinggirl.txt\n",
      "F:\\pycham\\PycharmProjects\\pythonProject\\lyrics\\cher\\cher_youbettersitdownkids.txt\n",
      "F:\\pycham\\PycharmProjects\\pythonProject\\lyrics\\cher\\cher_youdonthavetosayyouloveme.txt\n",
      "F:\\pycham\\PycharmProjects\\pythonProject\\lyrics\\cher\\cher_youhaventseenthelastofme.txt\n",
      "F:\\pycham\\PycharmProjects\\pythonProject\\lyrics\\cher\\cher_youknowit.txt\n",
      "F:\\pycham\\PycharmProjects\\pythonProject\\lyrics\\cher\\cher_youngandpretty.txt\n",
      "F:\\pycham\\PycharmProjects\\pythonProject\\lyrics\\cher\\cher_yoursuntiltomorrow.txt\n",
      "F:\\pycham\\PycharmProjects\\pythonProject\\lyrics\\cher\\cher_youtakeitall.txt\n",
      "F:\\pycham\\PycharmProjects\\pythonProject\\lyrics\\cher\\cher_youvemademesoveryhappy.txt\n",
      "F:\\pycham\\PycharmProjects\\pythonProject\\lyrics\\cher\\cher_youvereallygotaholdonme.txt\n",
      "F:\\pycham\\PycharmProjects\\pythonProject\\lyrics\\cher\\cher_youwouldntknowlove.txt\n",
      "F:\\pycham\\PycharmProjects\\pythonProject\\lyrics\\Robyn\\robyn_88days.txt\n",
      "F:\\pycham\\PycharmProjects\\pythonProject\\lyrics\\Robyn\\robyn_aintnothing.txt\n",
      "F:\\pycham\\PycharmProjects\\pythonProject\\lyrics\\Robyn\\robyn_anytimeyoulike.txt\n",
      "F:\\pycham\\PycharmProjects\\pythonProject\\lyrics\\Robyn\\robyn_babyforgiveme.txt\n",
      "F:\\pycham\\PycharmProjects\\pythonProject\\lyrics\\Robyn\\robyn_beach2k20.txt\n",
      "F:\\pycham\\PycharmProjects\\pythonProject\\lyrics\\Robyn\\robyn_becauseitsinthemusic.txt\n",
      "F:\\pycham\\PycharmProjects\\pythonProject\\lyrics\\Robyn\\robyn_bemine.txt\n",
      "F:\\pycham\\PycharmProjects\\pythonProject\\lyrics\\Robyn\\robyn_betweenthelines.txt\n",
      "F:\\pycham\\PycharmProjects\\pythonProject\\lyrics\\Robyn\\robyn_bigcity.txt\n",
      "F:\\pycham\\PycharmProjects\\pythonProject\\lyrics\\Robyn\\robyn_bionicwoman.txt\n",
      "F:\\pycham\\PycharmProjects\\pythonProject\\lyrics\\Robyn\\robyn_blowmymind.txt\n",
      "F:\\pycham\\PycharmProjects\\pythonProject\\lyrics\\Robyn\\robyn_breakdownintermission.txt\n",
      "F:\\pycham\\PycharmProjects\\pythonProject\\lyrics\\Robyn\\robyn_buffalostance.txt\n",
      "F:\\pycham\\PycharmProjects\\pythonProject\\lyrics\\Robyn\\robyn_bumlikeyou.txt\n",
      "F:\\pycham\\PycharmProjects\\pythonProject\\lyrics\\Robyn\\robyn_bumpyride.txt\n",
      "F:\\pycham\\PycharmProjects\\pythonProject\\lyrics\\Robyn\\robyn_callyourgirlfriend.txt\n",
      "F:\\pycham\\PycharmProjects\\pythonProject\\lyrics\\Robyn\\robyn_cobrastyle.txt\n",
      "F:\\pycham\\PycharmProjects\\pythonProject\\lyrics\\Robyn\\robyn_crashandburngirl.txt\n",
      "F:\\pycham\\PycharmProjects\\pythonProject\\lyrics\\Robyn\\robyn_criminalintent.txt\n",
      "F:\\pycham\\PycharmProjects\\pythonProject\\lyrics\\Robyn\\robyn_crywhenyougetolder.txt\n",
      "F:\\pycham\\PycharmProjects\\pythonProject\\lyrics\\Robyn\\robyn_curriculumvitae.txt\n",
      "F:\\pycham\\PycharmProjects\\pythonProject\\lyrics\\Robyn\\robyn_dancehallqueen.txt\n",
      "F:\\pycham\\PycharmProjects\\pythonProject\\lyrics\\Robyn\\robyn_dancehallqueen114530.txt\n",
      "F:\\pycham\\PycharmProjects\\pythonProject\\lyrics\\Robyn\\robyn_dancingonmyown.txt\n",
      "F:\\pycham\\PycharmProjects\\pythonProject\\lyrics\\Robyn\\robyn_dancingonmyown114521.txt\n",
      "F:\\pycham\\PycharmProjects\\pythonProject\\lyrics\\Robyn\\robyn_doitagain.txt\n",
      "F:\\pycham\\PycharmProjects\\pythonProject\\lyrics\\Robyn\\robyn_dontfuckingtellmewhattodo.txt\n",
      "F:\\pycham\\PycharmProjects\\pythonProject\\lyrics\\Robyn\\robyn_dontfuckingtellmewhattodo114520.txt\n",
      "F:\\pycham\\PycharmProjects\\pythonProject\\lyrics\\Robyn\\robyn_dontstopthemusic.txt\n",
      "F:\\pycham\\PycharmProjects\\pythonProject\\lyrics\\Robyn\\robyn_dontwantyouback.txt\n",
      "F:\\pycham\\PycharmProjects\\pythonProject\\lyrics\\Robyn\\robyn_doyouknowwhatittakes.txt\n",
      "F:\\pycham\\PycharmProjects\\pythonProject\\lyrics\\Robyn\\robyn_doyoureallywantmeshowrespect.txt\n",
      "F:\\pycham\\PycharmProjects\\pythonProject\\lyrics\\Robyn\\robyn_eclipse.txt\n",
      "F:\\pycham\\PycharmProjects\\pythonProject\\lyrics\\Robyn\\robyn_electric.txt\n",
      "F:\\pycham\\PycharmProjects\\pythonProject\\lyrics\\Robyn\\robyn_everagain.txt\n",
      "F:\\pycham\\PycharmProjects\\pythonProject\\lyrics\\Robyn\\robyn_everylittlething.txt\n",
      "F:\\pycham\\PycharmProjects\\pythonProject\\lyrics\\Robyn\\robyn_fembot.txt\n",
      "F:\\pycham\\PycharmProjects\\pythonProject\\lyrics\\Robyn\\robyn_fembot114519.txt\n",
      "F:\\pycham\\PycharmProjects\\pythonProject\\lyrics\\Robyn\\robyn_getmyselftogether.txt\n",
      "F:\\pycham\\PycharmProjects\\pythonProject\\lyrics\\Robyn\\robyn_givingyouback.txt\n",
      "F:\\pycham\\PycharmProjects\\pythonProject\\lyrics\\Robyn\\robyn_gottoworkitout.txt\n",
      "F:\\pycham\\PycharmProjects\\pythonProject\\lyrics\\Robyn\\robyn_handleme.txt\n",
      "F:\\pycham\\PycharmProjects\\pythonProject\\lyrics\\Robyn\\robyn_hangwithme.txt\n",
      "F:\\pycham\\PycharmProjects\\pythonProject\\lyrics\\Robyn\\robyn_hangwithme114525.txt\n",
      "F:\\pycham\\PycharmProjects\\pythonProject\\lyrics\\Robyn\\robyn_hangwithmeacousticversion.txt\n",
      "F:\\pycham\\PycharmProjects\\pythonProject\\lyrics\\Robyn\\robyn_healthylove.txt\n",
      "F:\\pycham\\PycharmProjects\\pythonProject\\lyrics\\Robyn\\robyn_herewego.txt\n",
      "F:\\pycham\\PycharmProjects\\pythonProject\\lyrics\\Robyn\\robyn_honey.txt\n",
      "F:\\pycham\\PycharmProjects\\pythonProject\\lyrics\\Robyn\\robyn_how.txt\n",
      "F:\\pycham\\PycharmProjects\\pythonProject\\lyrics\\Robyn\\robyn_humanbeing.txt\n",
      "F:\\pycham\\PycharmProjects\\pythonProject\\lyrics\\Robyn\\robyn_includemeout.txt\n",
      "F:\\pycham\\PycharmProjects\\pythonProject\\lyrics\\Robyn\\robyn_indestructible.txt\n",
      "F:\\pycham\\PycharmProjects\\pythonProject\\lyrics\\Robyn\\robyn_indestructibleacousticversion.txt\n",
      "F:\\pycham\\PycharmProjects\\pythonProject\\lyrics\\Robyn\\robyn_inmyeyes.txt\n",
      "F:\\pycham\\PycharmProjects\\pythonProject\\lyrics\\Robyn\\robyn_inmyeyes114532.txt\n",
      "F:\\pycham\\PycharmProjects\\pythonProject\\lyrics\\Robyn\\robyn_inmyheart.txt\n",
      "F:\\pycham\\PycharmProjects\\pythonProject\\lyrics\\Robyn\\robyn_iwish.txt\n",
      "F:\\pycham\\PycharmProjects\\pythonProject\\lyrics\\Robyn\\robyn_jackuoff.txt\n",
      "F:\\pycham\\PycharmProjects\\pythonProject\\lyrics\\Robyn\\robyn_jagvetendejligrosa.txt\n",
      "F:\\pycham\\PycharmProjects\\pythonProject\\lyrics\\Robyn\\robyn_justanothergirlfriend.txt\n",
      "F:\\pycham\\PycharmProjects\\pythonProject\\lyrics\\Robyn\\robyn_keepthisfireburning.txt\n",
      "F:\\pycham\\PycharmProjects\\pythonProject\\lyrics\\Robyn\\robyn_konichiwabitches.txt\n",
      "F:\\pycham\\PycharmProjects\\pythonProject\\lyrics\\Robyn\\robyn_longgone.txt\n",
      "F:\\pycham\\PycharmProjects\\pythonProject\\lyrics\\Robyn\\robyn_losecontrol.txt\n",
      "F:\\pycham\\PycharmProjects\\pythonProject\\lyrics\\Robyn\\robyn_loveisfree.txt\n",
      "F:\\pycham\\PycharmProjects\\pythonProject\\lyrics\\Robyn\\robyn_lovekills.txt\n",
      "F:\\pycham\\PycharmProjects\\pythonProject\\lyrics\\Robyn\\robyn_lovekills114524.txt\n",
      "F:\\pycham\\PycharmProjects\\pythonProject\\lyrics\\Robyn\\robyn_mainthing.txt\n",
      "F:\\pycham\\PycharmProjects\\pythonProject\\lyrics\\Robyn\\robyn_missingu.txt\n",
      "F:\\pycham\\PycharmProjects\\pythonProject\\lyrics\\Robyn\\robyn_mondaymorning.txt\n",
      "F:\\pycham\\PycharmProjects\\pythonProject\\lyrics\\Robyn\\robyn_monument.txt\n",
      "F:\\pycham\\PycharmProjects\\pythonProject\\lyrics\\Robyn\\robyn_moonlight.txt\n",
      "F:\\pycham\\PycharmProjects\\pythonProject\\lyrics\\Robyn\\robyn_myonlyreason.txt\n",
      "F:\\pycham\\PycharmProjects\\pythonProject\\lyrics\\Robyn\\robyn_mytruth.txt\n",
      "F:\\pycham\\PycharmProjects\\pythonProject\\lyrics\\Robyn\\robyn_noneofdem.txt\n",
      "F:\\pycham\\PycharmProjects\\pythonProject\\lyrics\\Robyn\\robyn_noneofdem114527.txt\n",
      "F:\\pycham\\PycharmProjects\\pythonProject\\lyrics\\Robyn\\robyn_notontheinside.txt\n",
      "F:\\pycham\\PycharmProjects\\pythonProject\\lyrics\\Robyn\\robyn_obaby.txt\n",
      "F:\\pycham\\PycharmProjects\\pythonProject\\lyrics\\Robyn\\robyn_play.txt\n",
      "F:\\pycham\\PycharmProjects\\pythonProject\\lyrics\\Robyn\\robyn_psycho.txt\n",
      "F:\\pycham\\PycharmProjects\\pythonProject\\lyrics\\Robyn\\robyn_robotboy.txt\n",
      "F:\\pycham\\PycharmProjects\\pythonProject\\lyrics\\Robyn\\robyn_robynishere.txt\n",
      "F:\\pycham\\PycharmProjects\\pythonProject\\lyrics\\Robyn\\robyn_sayit.txt\n",
      "F:\\pycham\\PycharmProjects\\pythonProject\\lyrics\\Robyn\\robyn_sendtorobinimmediately.txt\n",
      "F:\\pycham\\PycharmProjects\\pythonProject\\lyrics\\Robyn\\robyn_setmefree.txt\n",
      "F:\\pycham\\PycharmProjects\\pythonProject\\lyrics\\Robyn\\robyn_shouldhaveknown.txt\n",
      "F:\\pycham\\PycharmProjects\\pythonProject\\lyrics\\Robyn\\robyn_shouldhaveknown106828.txt\n",
      "F:\\pycham\\PycharmProjects\\pythonProject\\lyrics\\Robyn\\robyn_showmelove.txt\n",
      "F:\\pycham\\PycharmProjects\\pythonProject\\lyrics\\Robyn\\robyn_stars4ever.txt\n",
      "F:\\pycham\\PycharmProjects\\pythonProject\\lyrics\\Robyn\\robyn_stillyourgirl.txt\n",
      "F:\\pycham\\PycharmProjects\\pythonProject\\lyrics\\Robyn\\robyn_tellyoutoday.txt\n",
      "F:\\pycham\\PycharmProjects\\pythonProject\\lyrics\\Robyn\\robyn_thelasttime.txt\n",
      "F:\\pycham\\PycharmProjects\\pythonProject\\lyrics\\Robyn\\robyn_timemachine.txt\n",
      "F:\\pycham\\PycharmProjects\\pythonProject\\lyrics\\Robyn\\robyn_tomteverkstan.txt\n",
      "F:\\pycham\\PycharmProjects\\pythonProject\\lyrics\\Robyn\\robyn_underneaththeheart.txt\n",
      "F:\\pycham\\PycharmProjects\\pythonProject\\lyrics\\Robyn\\robyn_universalwoman.txt\n",
      "F:\\pycham\\PycharmProjects\\pythonProject\\lyrics\\Robyn\\robyn_ushouldknowbetter.txt\n",
      "F:\\pycham\\PycharmProjects\\pythonProject\\lyrics\\Robyn\\robyn_ushouldknowbetter114529.txt\n",
      "F:\\pycham\\PycharmProjects\\pythonProject\\lyrics\\Robyn\\robyn_wedancetothebeat.txt\n",
      "F:\\pycham\\PycharmProjects\\pythonProject\\lyrics\\Robyn\\robyn_wedancetothebeat114528.txt\n",
      "F:\\pycham\\PycharmProjects\\pythonProject\\lyrics\\Robyn\\robyn_wheredidourlovego.txt\n",
      "F:\\pycham\\PycharmProjects\\pythonProject\\lyrics\\Robyn\\robyn_whosthatgirl.txt\n",
      "F:\\pycham\\PycharmProjects\\pythonProject\\lyrics\\Robyn\\robyn_witheveryheartbeat.txt\n",
      "F:\\pycham\\PycharmProjects\\pythonProject\\lyrics\\Robyn\\robyn_youvegotthatsomething.txt\n"
     ]
    },
    {
     "data": {
      "text/plain": "                                 Title   \n0                   cher_88degrees.txt  \\\n1    cher_adifferentkindoflovesong.txt   \n2                    cher_afterall.txt   \n3                       cher_again.txt   \n4                       cher_alfie.txt   \n..                                 ...   \n415   robyn_wedancetothebeat114528.txt   \n416        robyn_wheredidourlovego.txt   \n417             robyn_whosthatgirl.txt   \n418       robyn_witheveryheartbeat.txt   \n419    robyn_youvegotthatsomething.txt   \n\n                                                Lyrics  Class  \n0    88 degre stuck ai got friend hollywood nut man...   cher  \n1    differ kind love song world crazi sane would s...   cher  \n2    well guess must fate tri deep insid known back...   cher  \n3    even find door ask could tri know quit say nev...   cher  \n4    alfi alfi moment live sort alfi meant take giv...   cher  \n..                                                 ...    ...  \n415  danc beat danc beat danc beat danc beat danc b...  robyn  \n416  love go thought thinkin use love strong one da...  robyn  \n417  girl good girl pretti like time pretti time go...  robyn  \n418  everi heartbeat mayb could make right could ma...  robyn  \n419  got someth look givin lovin everi day life see...  robyn  \n\n[420 rows x 3 columns]",
      "text/html": "<div>\n<style scoped>\n    .dataframe tbody tr th:only-of-type {\n        vertical-align: middle;\n    }\n\n    .dataframe tbody tr th {\n        vertical-align: top;\n    }\n\n    .dataframe thead th {\n        text-align: right;\n    }\n</style>\n<table border=\"1\" class=\"dataframe\">\n  <thead>\n    <tr style=\"text-align: right;\">\n      <th></th>\n      <th>Title</th>\n      <th>Lyrics</th>\n      <th>Class</th>\n    </tr>\n  </thead>\n  <tbody>\n    <tr>\n      <th>0</th>\n      <td>cher_88degrees.txt</td>\n      <td>88 degre stuck ai got friend hollywood nut man...</td>\n      <td>cher</td>\n    </tr>\n    <tr>\n      <th>1</th>\n      <td>cher_adifferentkindoflovesong.txt</td>\n      <td>differ kind love song world crazi sane would s...</td>\n      <td>cher</td>\n    </tr>\n    <tr>\n      <th>2</th>\n      <td>cher_afterall.txt</td>\n      <td>well guess must fate tri deep insid known back...</td>\n      <td>cher</td>\n    </tr>\n    <tr>\n      <th>3</th>\n      <td>cher_again.txt</td>\n      <td>even find door ask could tri know quit say nev...</td>\n      <td>cher</td>\n    </tr>\n    <tr>\n      <th>4</th>\n      <td>cher_alfie.txt</td>\n      <td>alfi alfi moment live sort alfi meant take giv...</td>\n      <td>cher</td>\n    </tr>\n    <tr>\n      <th>...</th>\n      <td>...</td>\n      <td>...</td>\n      <td>...</td>\n    </tr>\n    <tr>\n      <th>415</th>\n      <td>robyn_wedancetothebeat114528.txt</td>\n      <td>danc beat danc beat danc beat danc beat danc b...</td>\n      <td>robyn</td>\n    </tr>\n    <tr>\n      <th>416</th>\n      <td>robyn_wheredidourlovego.txt</td>\n      <td>love go thought thinkin use love strong one da...</td>\n      <td>robyn</td>\n    </tr>\n    <tr>\n      <th>417</th>\n      <td>robyn_whosthatgirl.txt</td>\n      <td>girl good girl pretti like time pretti time go...</td>\n      <td>robyn</td>\n    </tr>\n    <tr>\n      <th>418</th>\n      <td>robyn_witheveryheartbeat.txt</td>\n      <td>everi heartbeat mayb could make right could ma...</td>\n      <td>robyn</td>\n    </tr>\n    <tr>\n      <th>419</th>\n      <td>robyn_youvegotthatsomething.txt</td>\n      <td>got someth look givin lovin everi day life see...</td>\n      <td>robyn</td>\n    </tr>\n  </tbody>\n</table>\n<p>420 rows × 3 columns</p>\n</div>"
     },
     "execution_count": 11,
     "metadata": {},
     "output_type": "execute_result"
    }
   ],
   "source": [
    "paths = ['F:\\pycham\\PycharmProjects\\pythonProject\\lyrics\\cher'\n",
    "        ,'F:\\pycham\\PycharmProjects\\pythonProject\\lyrics\\Robyn']\n",
    "Data = []\n",
    "for path in paths:\n",
    "    for dirname, _, filenames in os.walk(path):\n",
    "        for filename in filenames:\n",
    "            print(os.path.join(dirname, filename))\n",
    "\n",
    "            doc_class = filename.split('_')[0].lower()\n",
    "            doc_titles = filename\n",
    "            documents = txt_preprocess.preprocess(os.path.join(dirname, filename))\n",
    "\n",
    "            Data.append([doc_titles, documents, doc_class])\n",
    "\n",
    "df = pd.DataFrame (Data, columns = ['Title', 'Lyrics', 'Class'])\n",
    "df"
   ],
   "metadata": {
    "collapsed": false,
    "ExecuteTime": {
     "start_time": "2023-05-09T00:48:17.114905Z",
     "end_time": "2023-05-09T00:48:18.136514Z"
    }
   }
  },
  {
   "cell_type": "markdown",
   "source": [
    "#### Encoding to -1 and 1"
   ],
   "metadata": {
    "collapsed": false
   }
  },
  {
   "cell_type": "code",
   "execution_count": 12,
   "outputs": [
    {
     "data": {
      "text/plain": "                                 Title   \n0                   cher_88degrees.txt  \\\n1    cher_adifferentkindoflovesong.txt   \n2                    cher_afterall.txt   \n3                       cher_again.txt   \n4                       cher_alfie.txt   \n..                                 ...   \n415   robyn_wedancetothebeat114528.txt   \n416        robyn_wheredidourlovego.txt   \n417             robyn_whosthatgirl.txt   \n418       robyn_witheveryheartbeat.txt   \n419    robyn_youvegotthatsomething.txt   \n\n                                                Lyrics  Class  \n0    88 degre stuck ai got friend hollywood nut man...     -1  \n1    differ kind love song world crazi sane would s...     -1  \n2    well guess must fate tri deep insid known back...     -1  \n3    even find door ask could tri know quit say nev...     -1  \n4    alfi alfi moment live sort alfi meant take giv...     -1  \n..                                                 ...    ...  \n415  danc beat danc beat danc beat danc beat danc b...      1  \n416  love go thought thinkin use love strong one da...      1  \n417  girl good girl pretti like time pretti time go...      1  \n418  everi heartbeat mayb could make right could ma...      1  \n419  got someth look givin lovin everi day life see...      1  \n\n[420 rows x 3 columns]",
      "text/html": "<div>\n<style scoped>\n    .dataframe tbody tr th:only-of-type {\n        vertical-align: middle;\n    }\n\n    .dataframe tbody tr th {\n        vertical-align: top;\n    }\n\n    .dataframe thead th {\n        text-align: right;\n    }\n</style>\n<table border=\"1\" class=\"dataframe\">\n  <thead>\n    <tr style=\"text-align: right;\">\n      <th></th>\n      <th>Title</th>\n      <th>Lyrics</th>\n      <th>Class</th>\n    </tr>\n  </thead>\n  <tbody>\n    <tr>\n      <th>0</th>\n      <td>cher_88degrees.txt</td>\n      <td>88 degre stuck ai got friend hollywood nut man...</td>\n      <td>-1</td>\n    </tr>\n    <tr>\n      <th>1</th>\n      <td>cher_adifferentkindoflovesong.txt</td>\n      <td>differ kind love song world crazi sane would s...</td>\n      <td>-1</td>\n    </tr>\n    <tr>\n      <th>2</th>\n      <td>cher_afterall.txt</td>\n      <td>well guess must fate tri deep insid known back...</td>\n      <td>-1</td>\n    </tr>\n    <tr>\n      <th>3</th>\n      <td>cher_again.txt</td>\n      <td>even find door ask could tri know quit say nev...</td>\n      <td>-1</td>\n    </tr>\n    <tr>\n      <th>4</th>\n      <td>cher_alfie.txt</td>\n      <td>alfi alfi moment live sort alfi meant take giv...</td>\n      <td>-1</td>\n    </tr>\n    <tr>\n      <th>...</th>\n      <td>...</td>\n      <td>...</td>\n      <td>...</td>\n    </tr>\n    <tr>\n      <th>415</th>\n      <td>robyn_wedancetothebeat114528.txt</td>\n      <td>danc beat danc beat danc beat danc beat danc b...</td>\n      <td>1</td>\n    </tr>\n    <tr>\n      <th>416</th>\n      <td>robyn_wheredidourlovego.txt</td>\n      <td>love go thought thinkin use love strong one da...</td>\n      <td>1</td>\n    </tr>\n    <tr>\n      <th>417</th>\n      <td>robyn_whosthatgirl.txt</td>\n      <td>girl good girl pretti like time pretti time go...</td>\n      <td>1</td>\n    </tr>\n    <tr>\n      <th>418</th>\n      <td>robyn_witheveryheartbeat.txt</td>\n      <td>everi heartbeat mayb could make right could ma...</td>\n      <td>1</td>\n    </tr>\n    <tr>\n      <th>419</th>\n      <td>robyn_youvegotthatsomething.txt</td>\n      <td>got someth look givin lovin everi day life see...</td>\n      <td>1</td>\n    </tr>\n  </tbody>\n</table>\n<p>420 rows × 3 columns</p>\n</div>"
     },
     "execution_count": 12,
     "metadata": {},
     "output_type": "execute_result"
    }
   ],
   "source": [
    "df['Class'] = pd.factorize(df['Class'])[0]\n",
    "df['Class'] = df['Class'].replace(0, -1)\n",
    "df"
   ],
   "metadata": {
    "collapsed": false,
    "ExecuteTime": {
     "start_time": "2023-05-09T00:48:20.162580Z",
     "end_time": "2023-05-09T00:48:20.182700Z"
    }
   }
  },
  {
   "cell_type": "markdown",
   "source": [
    "##### Create random train and test with ration 75% and 25%"
   ],
   "metadata": {
    "collapsed": false
   }
  },
  {
   "cell_type": "code",
   "execution_count": 13,
   "outputs": [],
   "source": [
    "df_random = df.sample(frac=1)\n",
    "X_train, X_test = sp.train_test_split(df_random['Lyrics'], test_ratio=0.25)\n",
    "y_train, y_test = sp.train_test_split(df_random['Class'], test_ratio=0.25)\n"
   ],
   "metadata": {
    "collapsed": false,
    "ExecuteTime": {
     "start_time": "2023-05-09T00:48:21.976793Z",
     "end_time": "2023-05-09T00:48:21.988793Z"
    }
   }
  },
  {
   "cell_type": "markdown",
   "source": [
    "#### Vectorizer with TF_IDF"
   ],
   "metadata": {
    "collapsed": false
   }
  },
  {
   "cell_type": "code",
   "execution_count": 14,
   "outputs": [],
   "source": [
    "\n",
    "vectorizer = TfidfVectorizer(max_features = 500)\n",
    "vectorizer.fit(X_train)\n",
    "X_train_vec = vectorizer.transform(X_train)\n",
    "X_test_vec = vectorizer.transform(X_test)\n",
    "X_train_vec = X_train_vec.toarray()\n",
    "X_test_vec = X_test_vec.toarray()\n"
   ],
   "metadata": {
    "collapsed": false,
    "ExecuteTime": {
     "start_time": "2023-05-09T00:48:24.251946Z",
     "end_time": "2023-05-09T00:48:24.300575Z"
    }
   }
  },
  {
   "cell_type": "markdown",
   "source": [
    "##### Train with SVM with  and without lib|"
   ],
   "metadata": {
    "collapsed": false
   }
  },
  {
   "cell_type": "code",
   "execution_count": 35,
   "outputs": [
    {
     "name": "stdout",
     "output_type": "stream",
     "text": [
      "     pcost       dcost       gap    pres   dres\n",
      " 0:  6.6194e+02 -1.5595e+04  3e+04  3e-01  7e-15\n",
      " 1:  4.0380e+02 -2.1385e+03  3e+03  1e-02  3e-15\n",
      " 2: -4.5471e+01 -5.3648e+02  5e+02  1e-03  3e-15\n",
      " 3: -1.3272e+02 -2.1695e+02  8e+01  1e-04  2e-15\n",
      " 4: -1.4958e+02 -1.6664e+02  2e+01  2e-05  1e-15\n",
      " 5: -1.5399e+02 -1.5696e+02  3e+00  2e-06  1e-15\n",
      " 6: -1.5485e+02 -1.5499e+02  1e-01  4e-08  1e-15\n",
      " 7: -1.5490e+02 -1.5491e+02  6e-03  1e-09  1e-15\n",
      " 8: -1.5491e+02 -1.5491e+02  2e-04  2e-11  1e-15\n",
      " 9: -1.5491e+02 -1.5491e+02  9e-06  2e-13  1e-15\n",
      "Optimal solution found.\n",
      "SVM use kenel linear without Sklearn:  0.8095238095238095\n"
     ]
    }
   ],
   "source": [
    "X_tra = np.array(X_train_vec)\n",
    "y_tra = np.array(y_train)\n",
    "X_te = np.array(X_test_vec)\n",
    "y_te = np.array(y_test)\n",
    "# fit data to get parameters of shape and bias\n",
    "w, b = SVM2.fit(X_tra,y_tra,10)\n",
    "# test and score accurancy\n",
    "y_pre = SVM2.predict(X_te, w, b)\n",
    "print('SVM use kenel linear without Sklearn: ',accuracy_metric.accuracy_metric(y_te, y_pre))"
   ],
   "metadata": {
    "collapsed": false,
    "ExecuteTime": {
     "start_time": "2023-05-09T01:48:52.760936Z",
     "end_time": "2023-05-09T01:48:52.793933Z"
    }
   }
  },
  {
   "cell_type": "code",
   "execution_count": 16,
   "outputs": [
    {
     "name": "stdout",
     "output_type": "stream",
     "text": [
      "SVM use kenel linear with Sklearn:  0.8380952380952381\n"
     ]
    }
   ],
   "source": [
    "from sklearn.svm import SVC\n",
    "clf_svm = SVC(kernel= 'linear', random_state=24)\n",
    "clf_svm.fit(X_train_vec, y_train)\n",
    "y_ped = clf_svm.predict(X_test_vec)\n",
    "print('SVM use kenel linear with Sklearn: ',accuracy_metric.accuracy_metric(y_te, y_ped))"
   ],
   "metadata": {
    "collapsed": false,
    "ExecuteTime": {
     "start_time": "2023-05-09T00:48:27.853858Z",
     "end_time": "2023-05-09T00:48:27.870853Z"
    }
   }
  },
  {
   "cell_type": "markdown",
   "source": [
    "#### Train with LinearRegression with and without lib"
   ],
   "metadata": {
    "collapsed": false
   }
  },
  {
   "cell_type": "code",
   "execution_count": 37,
   "outputs": [
    {
     "name": "stdout",
     "output_type": "stream",
     "text": [
      "LinearRegression without Sklearn:  0.4857142857142857\n"
     ]
    }
   ],
   "source": [
    "a= MultipleLinearRegression()\n",
    "a.fit(X_tra, y_tra)\n",
    "y_pred2 = a.predict(X_te)\n",
    "new_arr = np.where( y_pred2< 0, -1, 1)\n",
    "print('LinearRegression without Sklearn: ',accuracy_metric.accuracy_metric(y_te, new_arr))"
   ],
   "metadata": {
    "collapsed": false,
    "ExecuteTime": {
     "start_time": "2023-05-09T01:50:26.014833Z",
     "end_time": "2023-05-09T01:50:26.035831Z"
    }
   }
  },
  {
   "cell_type": "code",
   "execution_count": 38,
   "outputs": [
    {
     "name": "stdout",
     "output_type": "stream",
     "text": [
      "LinearRegression with Sklearn:  0.7428571428571429\n"
     ]
    }
   ],
   "source": [
    "from sklearn.linear_model import LinearRegression\n",
    "reg = LinearRegression().fit(X_tra, y_tra)\n",
    "y_pred_prob = reg.predict(X_te)\n",
    "new_arr2 = np.where( y_pred_prob< 0, -1, 1)\n",
    "print('LinearRegression with Sklearn: ',accuracy_metric.accuracy_metric(y_te, new_arr2))"
   ],
   "metadata": {
    "collapsed": false,
    "ExecuteTime": {
     "start_time": "2023-05-09T01:51:56.515003Z",
     "end_time": "2023-05-09T01:51:56.583702Z"
    }
   }
  },
  {
   "cell_type": "code",
   "execution_count": null,
   "outputs": [],
   "source": [],
   "metadata": {
    "collapsed": false
   }
  }
 ],
 "metadata": {
  "kernelspec": {
   "display_name": "Python 3",
   "language": "python",
   "name": "python3"
  },
  "language_info": {
   "codemirror_mode": {
    "name": "ipython",
    "version": 2
   },
   "file_extension": ".py",
   "mimetype": "text/x-python",
   "name": "python",
   "nbconvert_exporter": "python",
   "pygments_lexer": "ipython2",
   "version": "2.7.6"
  }
 },
 "nbformat": 4,
 "nbformat_minor": 0
}
