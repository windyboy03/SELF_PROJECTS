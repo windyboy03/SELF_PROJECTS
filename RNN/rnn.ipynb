{
 "cells": [
  {
   "cell_type": "code",
   "execution_count": 1,
   "metadata": {
    "ExecuteTime": {
     "end_time": "2023-05-12T23:57:08.801263Z",
     "start_time": "2023-05-12T23:57:08.793262Z"
    },
    "collapsed": true
   },
   "outputs": [],
   "source": [
    "import numpy as np\n",
    "import pandas as pd\n",
    "import os\n",
    "from pathlib import Path\n"
   ]
  },
  {
   "cell_type": "code",
   "execution_count": 2,
   "metadata": {
    "ExecuteTime": {
     "end_time": "2023-05-12T23:52:00.567244Z",
     "start_time": "2023-05-12T23:52:00.555246Z"
    },
    "collapsed": false
   },
   "outputs": [],
   "source": [
    "for dir_name,_, file_names in os.walk('F:\\pycham\\PycharmProjects\\pythonProject\\RNN\\Archive'):\n",
    "    for file_name in file_names:\n",
    "        paths = os.path.join(dir_name, file_name)"
   ]
  },
  {
   "cell_type": "code",
   "execution_count": 3,
   "metadata": {
    "ExecuteTime": {
     "end_time": "2023-05-13T00:00:10.691704Z",
     "start_time": "2023-05-13T00:00:10.213753Z"
    },
    "collapsed": false
   },
   "outputs": [],
   "source": [
    "path = r'F:\\pycham\\PycharmProjects\\pythonProject\\RNN\\Archive'\n",
    "files = Path(path).glob('*.csv')\n",
    "df = pd.concat((pd.read_csv(f) for f in files), ignore_index=True)"
   ]
  },
  {
   "cell_type": "code",
   "execution_count": 5,
   "metadata": {
    "ExecuteTime": {
     "end_time": "2023-05-13T00:00:48.150904Z",
     "start_time": "2023-05-13T00:00:48.026794Z"
    },
    "collapsed": false
   },
   "outputs": [
    {
     "data": {
      "text/html": [
       "<div>\n",
       "<style scoped>\n",
       "    .dataframe tbody tr th:only-of-type {\n",
       "        vertical-align: middle;\n",
       "    }\n",
       "\n",
       "    .dataframe tbody tr th {\n",
       "        vertical-align: top;\n",
       "    }\n",
       "\n",
       "    .dataframe thead th {\n",
       "        text-align: right;\n",
       "    }\n",
       "</style>\n",
       "<table border=\"1\" class=\"dataframe\">\n",
       "  <thead>\n",
       "    <tr style=\"text-align: right;\">\n",
       "      <th></th>\n",
       "      <th>Unnamed: 0</th>\n",
       "      <th>TxnDate</th>\n",
       "      <th>TxnTime</th>\n",
       "      <th>Consumption</th>\n",
       "    </tr>\n",
       "  </thead>\n",
       "  <tbody>\n",
       "    <tr>\n",
       "      <th>0</th>\n",
       "      <td>76229</td>\n",
       "      <td>01 Jan 2022</td>\n",
       "      <td>16:55:52</td>\n",
       "      <td>1.010</td>\n",
       "    </tr>\n",
       "    <tr>\n",
       "      <th>1</th>\n",
       "      <td>76258</td>\n",
       "      <td>01 Jan 2022</td>\n",
       "      <td>21:45:29</td>\n",
       "      <td>0.908</td>\n",
       "    </tr>\n",
       "    <tr>\n",
       "      <th>2</th>\n",
       "      <td>76287</td>\n",
       "      <td>01 Jan 2022</td>\n",
       "      <td>12:24:52</td>\n",
       "      <td>0.926</td>\n",
       "    </tr>\n",
       "    <tr>\n",
       "      <th>3</th>\n",
       "      <td>76316</td>\n",
       "      <td>01 Jan 2022</td>\n",
       "      <td>04:07:36</td>\n",
       "      <td>0.928</td>\n",
       "    </tr>\n",
       "    <tr>\n",
       "      <th>4</th>\n",
       "      <td>76345</td>\n",
       "      <td>01 Jan 2022</td>\n",
       "      <td>06:52:25</td>\n",
       "      <td>0.916</td>\n",
       "    </tr>\n",
       "  </tbody>\n",
       "</table>\n",
       "</div>"
      ],
      "text/plain": [
       "   Unnamed: 0      TxnDate   TxnTime  Consumption\n",
       "0       76229  01 Jan 2022  16:55:52        1.010\n",
       "1       76258  01 Jan 2022  21:45:29        0.908\n",
       "2       76287  01 Jan 2022  12:24:52        0.926\n",
       "3       76316  01 Jan 2022  04:07:36        0.928\n",
       "4       76345  01 Jan 2022  06:52:25        0.916"
      ]
     },
     "execution_count": 5,
     "metadata": {},
     "output_type": "execute_result"
    }
   ],
   "source": [
    "df.head()\n"
   ]
  },
  {
   "cell_type": "code",
   "execution_count": null,
   "metadata": {
    "collapsed": false
   },
   "outputs": [],
   "source": []
  }
 ],
 "metadata": {
  "kernelspec": {
   "display_name": "Python 3",
   "language": "python",
   "name": "python3"
  },
  "language_info": {
   "codemirror_mode": {
    "name": "ipython",
    "version": 3
   },
   "file_extension": ".py",
   "mimetype": "text/x-python",
   "name": "python",
   "nbconvert_exporter": "python",
   "pygments_lexer": "ipython3",
   "version": "3.9.13"
  }
 },
 "nbformat": 4,
 "nbformat_minor": 0
}
