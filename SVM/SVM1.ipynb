{
 "cells": [
  {
   "cell_type": "code",
   "execution_count": null,
   "metadata": {
    "collapsed": true,
    "ExecuteTime": {
     "start_time": "2023-05-09T00:22:37.358934Z",
     "end_time": "2023-05-09T00:22:37.362931Z"
    }
   },
   "outputs": [],
   "source": [
    "import pandas as pd\n",
    "import numpy as np\n",
    "import split_dataset as sp #local file to spit dataset to test and train file\n",
    "import scaler # local file to standardize transform dataset\n",
    "import r2_score #local file\n",
    "import categori_encoder as ce # local file\n",
    "import accuracy_metric #local file to calc R-squared score\n",
    "import SVM2 # local file to import model SVM"
   ]
  },
  {
   "cell_type": "markdown",
   "source": [
    "#### Simple data processing"
   ],
   "metadata": {
    "collapsed": false
   }
  },
  {
   "cell_type": "code",
   "execution_count": null,
   "outputs": [],
   "source": [
    "df = pd.read_csv('diabetes.csv'\n",
    "                )\n",
    "df.describe()\n",
    "df = df.sample(frac=1)"
   ],
   "metadata": {
    "collapsed": false,
    "ExecuteTime": {
     "start_time": "2023-05-09T00:22:38.897134Z",
     "end_time": "2023-05-09T00:22:38.922538Z"
    }
   }
  },
  {
   "cell_type": "code",
   "execution_count": null,
   "outputs": [],
   "source": [
    "X = df.drop('Outcome',axis=1).copy()\n"
   ],
   "metadata": {
    "collapsed": false,
    "ExecuteTime": {
     "start_time": "2023-05-09T00:22:40.381978Z",
     "end_time": "2023-05-09T00:22:40.397805Z"
    }
   }
  },
  {
   "cell_type": "code",
   "execution_count": null,
   "outputs": [],
   "source": [
    "y = df['Outcome'].copy()\n",
    "y = y.replace(0, -1)\n",
    "y.describe()"
   ],
   "metadata": {
    "collapsed": false,
    "ExecuteTime": {
     "start_time": "2023-05-09T00:22:41.854378Z",
     "end_time": "2023-05-09T00:22:41.867684Z"
    }
   }
  },
  {
   "cell_type": "code",
   "execution_count": null,
   "outputs": [],
   "source": [
    "X_train, X_test = sp.train_test_split(X, test_ratio=0.25)\n",
    "y_train, y_test = sp.train_test_split(y, test_ratio=0.25)"
   ],
   "metadata": {
    "collapsed": false,
    "ExecuteTime": {
     "start_time": "2023-05-09T00:22:44.428950Z",
     "end_time": "2023-05-09T00:22:44.440009Z"
    }
   }
  },
  {
   "cell_type": "markdown",
   "source": [
    "### Train and predict with and without sklearn"
   ],
   "metadata": {
    "collapsed": false
   }
  },
  {
   "cell_type": "code",
   "execution_count": null,
   "outputs": [],
   "source": [
    "from sklearn.svm import SVC\n",
    "clf_svm = SVC(kernel= 'linear', random_state=24)\n",
    "clf_svm.fit(X_train, y_train)\n",
    "y_ped = clf_svm.predict(X_test)\n",
    "print('SVM use kenel linear with Sklearn: ',accuracy_metric.accuracy_metric(y_te, y_ped))"
   ],
   "metadata": {
    "collapsed": false,
    "ExecuteTime": {
     "start_time": "2023-05-09T00:28:43.083953Z",
     "end_time": "2023-05-09T00:28:44.524674Z"
    }
   }
  },
  {
   "cell_type": "code",
   "execution_count": null,
   "outputs": [],
   "source": [
    "X_tra = np.array(X_train)\n",
    "y_tra = np.array(y_train)\n",
    "X_te = np.array(X_test)\n",
    "y_te = np.array(y_test)\n",
    "# fit data to get parameters of shape and bias\n",
    "w, b = SVM2.fit(X_tra,y_tra,10)\n",
    "# test and score accurancy\n",
    "y_pre = SVM2.predict(X_te, w, b)\n",
    "print('SVM use kenel linear with Sklearn: ',accuracy_metric.accuracy_metric(y_te, y_pre))\n"
   ],
   "metadata": {
    "collapsed": false,
    "ExecuteTime": {
     "start_time": "2023-05-09T00:22:49.209412Z",
     "end_time": "2023-05-09T00:22:49.358417Z"
    }
   }
  },
  {
   "cell_type": "code",
   "execution_count": null,
   "outputs": [],
   "source": [],
   "metadata": {
    "collapsed": false
   }
  }
 ],
 "metadata": {
  "kernelspec": {
   "display_name": "Python 3",
   "language": "python",
   "name": "python3"
  },
  "language_info": {
   "codemirror_mode": {
    "name": "ipython",
    "version": 2
   },
   "file_extension": ".py",
   "mimetype": "text/x-python",
   "name": "python",
   "nbconvert_exporter": "python",
   "pygments_lexer": "ipython2",
   "version": "2.7.6"
  }
 },
 "nbformat": 4,
 "nbformat_minor": 0
}
