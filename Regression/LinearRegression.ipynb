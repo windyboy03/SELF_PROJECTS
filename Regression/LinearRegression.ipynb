{
 "cells": [
  {
   "cell_type": "markdown",
   "source": [
    "# Linear Regression without lib\n",
    "\n"
   ],
   "metadata": {
    "collapsed": false
   }
  },
  {
   "cell_type": "markdown",
   "source": [
    "+ #### Import lib\n",
    "+ ###### panda to data processing\n",
    "+ ###### numpy to handel with matrix\n",
    "+ ###### categori_encoder to handel with object type\n",
    "+ ###### split_dataset to spit dataset to test and train file\n",
    "+ ###### scaler to standardize transform dataset\n",
    "+ ###### r2_score to calc R-squared score\n"
   ],
   "metadata": {
    "collapsed": false
   }
  },
  {
   "cell_type": "code",
   "execution_count": 1,
   "metadata": {
    "collapsed": true,
    "ExecuteTime": {
     "start_time": "2023-05-09T00:40:56.483310Z",
     "end_time": "2023-05-09T00:40:56.687291Z"
    }
   },
   "outputs": [],
   "source": [
    "import pandas as pd\n",
    "import numpy as np\n",
    "import categori_encoder as ce # local file\n",
    "from numpy.linalg import inv\n",
    "import split_dataset as sp #local file\n",
    "import scaler #local file\n",
    "import r2_score #local file\n",
    "from LinearRegression import MultipleLinearRegression\n",
    "import accuracy_metric #local file\n"
   ]
  },
  {
   "cell_type": "markdown",
   "source": [
    "#### Simple data processing(transfome category data to numberic)"
   ],
   "metadata": {
    "collapsed": false
   }
  },
  {
   "cell_type": "code",
   "execution_count": 2,
   "outputs": [
    {
     "name": "stdout",
     "output_type": "stream",
     "text": [
      "      age  sex     bmi  children  smoker  region      charges\n",
      "0      19    0  27.900         0       1       1  16884.92400\n",
      "1      18    1  33.770         1       0       3   1725.55230\n",
      "2      28    1  33.000         3       0       3   4449.46200\n",
      "3      33    1  22.705         0       0       4  21984.47061\n",
      "4      32    1  28.880         0       0       4   3866.85520\n",
      "...   ...  ...     ...       ...     ...     ...          ...\n",
      "1333   50    1  30.970         3       0       4  10600.54830\n",
      "1334   18    0  31.920         0       0       2   2205.98080\n",
      "1335   18    0  36.850         0       0       3   1629.83350\n",
      "1336   21    0  25.800         0       0       1   2007.94500\n",
      "1337   61    0  29.070         0       1       4  29141.36030\n",
      "\n",
      "[1338 rows x 7 columns]\n"
     ]
    }
   ],
   "source": [
    "medicine = pd.read_csv('insurance.csv')\n",
    "\n",
    "df = pd.DataFrame(medicine)\n",
    "category_map = {'sex' :{'female' : 0, 'male':1},\n",
    "                'smoker':{'yes':1, 'no':0},\n",
    "                'region': {'southwest':1, 'northeast':2, 'southeast':3, 'northwest':4 }\n",
    "                }\n",
    "df_encoded = ce.category_transform(df, category_map)\n",
    "print(df_encoded)\n"
   ],
   "metadata": {
    "collapsed": false,
    "ExecuteTime": {
     "start_time": "2023-05-09T00:40:58.826657Z",
     "end_time": "2023-05-09T00:40:58.878539Z"
    }
   }
  },
  {
   "cell_type": "markdown",
   "source": [
    "#### Check Multicollinearity collum to drop"
   ],
   "metadata": {
    "collapsed": false
   }
  },
  {
   "cell_type": "code",
   "execution_count": 3,
   "outputs": [
    {
     "name": "stdout",
     "output_type": "stream",
     "text": [
      "               age       sex       bmi  children    smoker    region   charges\n",
      "age       1.000000 -0.020856  0.109272  0.042469 -0.025019 -0.008891  0.299008\n",
      "sex      -0.020856  1.000000  0.046371  0.017163  0.076185 -0.000142  0.057292\n",
      "bmi       0.109272  0.046371  1.000000  0.012759  0.003750  0.005598  0.198341\n",
      "children  0.042469  0.017163  0.012759  1.000000  0.007673  0.001460  0.067998\n",
      "smoker   -0.025019  0.076185  0.003750  0.007673  1.000000  0.013246  0.787251\n",
      "region   -0.008891 -0.000142  0.005598  0.001460  0.013246  1.000000  0.015588\n",
      "charges   0.299008  0.057292  0.198341  0.067998  0.787251  0.015588  1.000000\n"
     ]
    }
   ],
   "source": [
    "print(df_encoded.corr(method='pearson'))"
   ],
   "metadata": {
    "collapsed": false,
    "ExecuteTime": {
     "start_time": "2023-05-09T00:41:01.636099Z",
     "end_time": "2023-05-09T00:41:01.678097Z"
    }
   }
  },
  {
   "cell_type": "markdown",
   "source": [
    "#### Splits the dataset into 80% train data and 20% test data"
   ],
   "metadata": {
    "collapsed": false
   }
  },
  {
   "cell_type": "code",
   "execution_count": 4,
   "outputs": [
    {
     "name": "stdout",
     "output_type": "stream",
     "text": [
      "<class 'pandas.core.frame.DataFrame'>\n",
      "RangeIndex: 1071 entries, 267 to 1337\n",
      "Data columns (total 7 columns):\n",
      " #   Column    Non-Null Count  Dtype  \n",
      "---  ------    --------------  -----  \n",
      " 0   age       1071 non-null   int64  \n",
      " 1   sex       1071 non-null   int64  \n",
      " 2   bmi       1071 non-null   float64\n",
      " 3   children  1071 non-null   int64  \n",
      " 4   smoker    1071 non-null   int64  \n",
      " 5   region    1071 non-null   int64  \n",
      " 6   charges   1071 non-null   float64\n",
      "dtypes: float64(2), int64(5)\n",
      "memory usage: 58.7 KB\n",
      "None\n"
     ]
    }
   ],
   "source": [
    "import categori_encoder as ce\n",
    "train_data, test_data = sp.train_test_split(df_encoded, test_ratio=0.2)\n",
    "print(train_data.info())"
   ],
   "metadata": {
    "collapsed": false,
    "ExecuteTime": {
     "start_time": "2023-05-09T00:41:04.991534Z",
     "end_time": "2023-05-09T00:41:05.052526Z"
    }
   }
  },
  {
   "cell_type": "markdown",
   "source": [
    "#### standardize dataset transform"
   ],
   "metadata": {
    "collapsed": false
   }
  },
  {
   "cell_type": "code",
   "execution_count": 5,
   "outputs": [
    {
     "data": {
      "text/plain": "array([[ 1.40724927, -1.0174253 ,  0.27466065, ..., -0.49363418,\n        -0.45627776,  0.11713223],\n       [ 0.40314269,  0.98195543, -0.07996985, ..., -0.49363418,\n        -1.36290759, -0.47807104],\n       [ 0.69003029,  0.98195543, -0.78438395, ..., -0.49363418,\n        -0.45627776, -0.32477198],\n       ...,\n       [-1.53334855, -1.0174253 ,  0.99442322, ..., -0.49363418,\n         0.45035207, -0.96185573],\n       [-1.31818286, -1.0174253 , -0.79084647, ..., -0.49363418,\n        -1.36290759, -0.93037791],\n       [ 1.55069306, -1.0174253 , -0.26253589, ...,  2.02390015,\n         1.3569819 ,  1.32848203]])"
     },
     "execution_count": 5,
     "metadata": {},
     "output_type": "execute_result"
    }
   ],
   "source": [
    "train_data= np.array(train_data)\n",
    "test_data= np.array(test_data)\n",
    "means = scaler.column_means(train_data)\n",
    "stdevs = scaler.column_stdevs(train_data, means)\n",
    "scaler.standardize_dataset(train_data, means, stdevs)"
   ],
   "metadata": {
    "collapsed": false,
    "ExecuteTime": {
     "start_time": "2023-05-09T00:41:07.168797Z",
     "end_time": "2023-05-09T00:41:07.197081Z"
    }
   }
  },
  {
   "cell_type": "code",
   "execution_count": 6,
   "outputs": [
    {
     "data": {
      "text/plain": "array([[-1.34801403, -0.97960588, -0.46044718, ...,  1.77763757,\n        -1.39853396,  0.26105102],\n       [-1.41708325,  1.01699541,  0.56462262, ..., -0.56043746,\n         0.39239442, -0.95048809],\n       [-0.72639098,  1.01699541,  0.43015861, ..., -0.56043746,\n         0.39239442, -0.73279285],\n       ...,\n       [ 1.00033971, -0.97960588,  1.31377925, ..., -0.56043746,\n         0.39239442,  0.54701116],\n       [ 0.51685512,  1.01699541,  2.06293589, ...,  1.77763757,\n         0.39239442,  2.60000986],\n       [ 0.10243975,  1.01699541, -1.87493873, ...,  1.77763757,\n         0.39239442,  0.28459533]])"
     },
     "execution_count": 6,
     "metadata": {},
     "output_type": "execute_result"
    }
   ],
   "source": [
    "means1 = scaler.column_means(test_data)\n",
    "stdevs1 = scaler.column_stdevs(test_data, means1)\n",
    "scaler.standardize_dataset(test_data, means1, stdevs1)"
   ],
   "metadata": {
    "collapsed": false,
    "ExecuteTime": {
     "start_time": "2023-05-09T00:41:09.541290Z",
     "end_time": "2023-05-09T00:41:09.562372Z"
    }
   }
  },
  {
   "cell_type": "code",
   "execution_count": 11,
   "outputs": [
    {
     "name": "stdout",
     "output_type": "stream",
     "text": [
      "[ 2.61051015e-01 -9.50488095e-01 -7.32792850e-01  6.68607495e-01\n",
      " -7.79354867e-01 -7.88164752e-01 -4.29805401e-01 -5.06455529e-01\n",
      " -5.76393236e-01  1.22314668e+00 -8.70906137e-01  1.13408273e+00\n",
      " -9.42392928e-01 -2.02022756e-01  2.07738275e+00 -9.41562238e-01\n",
      " -2.25469855e-01 -8.96972031e-01 -2.41050382e-01  1.85566105e+00\n",
      " -3.11431749e-02 -7.56746994e-01 -9.97524398e-01  1.92474480e+00\n",
      " -5.92577779e-01  3.05780984e-02  6.65982134e-02 -1.07883668e-01\n",
      " -8.66600731e-01  2.00539407e+00  1.75560974e+00 -9.12714836e-01\n",
      " -7.13745083e-01  1.21136769e-02  3.00308186e+00 -9.58489583e-01\n",
      "  1.59334203e-01 -9.04394338e-01  2.09037126e+00  2.76162728e+00\n",
      " -8.44952775e-01 -6.92809068e-01 -5.87097220e-01 -5.83797973e-01\n",
      " -6.02506278e-01  5.60380672e-01 -8.17196962e-01 -8.04124748e-01\n",
      " -7.90113628e-02  2.00524829e+00 -9.11680597e-01 -8.02294065e-01\n",
      "  7.95185124e-01  1.92799746e+00 -4.44263794e-01  2.70753201e+00\n",
      " -8.91659574e-04  1.65311945e+00  7.69332413e-01 -6.09710907e-01\n",
      " -4.00584376e-01 -7.28381226e-01  1.32252587e+00 -7.58033257e-01\n",
      "  8.73701491e-02 -9.49076569e-01  4.92744721e-02 -5.77754504e-01\n",
      " -6.15258927e-01  3.23246483e-01  2.36503984e-01 -5.44980840e-01\n",
      " -1.49994090e-01 -1.33618461e-01 -4.70863222e-01 -1.80768546e-01\n",
      " -7.72916668e-01 -9.65919283e-01 -8.68212816e-01 -5.63237290e-01\n",
      " -7.33452099e-01 -4.54204896e-01  1.88185062e+00 -2.06582688e-01\n",
      "  2.09534570e+00  5.97804919e-01  2.39444047e+00 -2.03424699e-01\n",
      " -4.46902157e-01 -2.02673354e-01 -9.26398422e-01 -2.13897750e-01\n",
      "  1.32398989e+00 -6.30531570e-01  2.69111326e+00 -7.87344595e-01\n",
      " -1.20935606e-01 -2.71108410e-01  7.02827532e-01  1.75998004e-01\n",
      " -5.93998340e-01 -7.97078421e-01  6.17488662e-01  1.38450983e+00\n",
      " -6.88485844e-01  3.15033533e-01 -9.02059151e-01 -7.78519778e-01\n",
      " -8.59253876e-01  2.67229024e+00 -2.23238684e-01 -1.38834681e-01\n",
      " -7.17024846e-01 -8.96207814e-01 -1.70246576e-01  1.32998861e+00\n",
      " -1.78797356e-01  4.38701946e-01 -4.00975034e-01 -5.54013950e-01\n",
      " -4.69785659e-01 -9.52080727e-01 -9.07976738e-01  2.07296611e+00\n",
      " -2.80001552e-01 -8.17832902e-01  2.76727830e-01 -3.18400850e-01\n",
      "  1.52772628e+00 -6.02287817e-01 -6.41823206e-02 -1.73189503e-04\n",
      " -1.96200558e-01 -9.57919697e-01 -8.92013817e-01 -9.16112109e-01\n",
      " -9.87579855e-01 -9.24903025e-01  1.09524224e+00 -9.15228951e-01\n",
      "  1.09949167e+00 -8.09429303e-01  4.27889982e-01  3.62785517e-01\n",
      "  5.69627879e-01 -6.77744281e-01  2.16599767e+00 -2.98974685e-01\n",
      " -2.12494141e-01 -9.41140100e-01 -6.78786520e-01 -4.65845756e-01\n",
      " -5.82152852e-01  5.07190845e-01 -5.22784508e-01 -5.33053335e-01\n",
      "  6.07804667e-01  1.51820663e-01  1.86467522e+00  4.89979010e-01\n",
      "  6.17797098e-01  1.80067731e+00 -2.53184896e-01 -6.76635205e-01\n",
      " -6.86544296e-01 -2.56658717e-01 -7.02329850e-01 -5.98580126e-01\n",
      " -8.71069258e-01 -7.02547636e-01 -1.70338056e-02 -4.39708274e-01\n",
      " -9.52946111e-01 -6.69129665e-01 -8.60187507e-01  2.81366241e+00\n",
      " -5.72441029e-01 -2.54340222e-01 -3.83236783e-01 -4.06013267e-01\n",
      " -1.50461379e-01 -9.57979098e-01 -7.68280549e-01 -4.95428763e-01\n",
      " -4.70497739e-01  2.40837835e+00 -7.70154333e-01 -6.62767702e-01\n",
      " -5.46858724e-01 -6.94954348e-01 -8.47889016e-02 -6.98075221e-01\n",
      " -9.17552901e-01 -1.25808976e-01 -9.97487739e-01 -9.57360364e-01\n",
      " -6.36868462e-01 -4.07728310e-01 -3.17624465e-01  1.02536826e-01\n",
      " -9.18110560e-01 -3.79410790e-01 -4.84569381e-02  1.87935187e+00\n",
      " -5.17196844e-01 -7.41722072e-01 -1.49868375e-01  5.88657224e-01\n",
      "  2.09729123e-02 -5.60113583e-01 -9.30147005e-01 -4.36029050e-01\n",
      " -8.05660757e-01 -6.88571382e-01 -4.07472805e-01 -4.99241425e-01\n",
      " -2.60770197e-01 -8.89893947e-01 -8.17227295e-01  9.16143923e-01\n",
      " -6.87797092e-01 -2.44047427e-01 -6.68532102e-01  1.69119723e+00\n",
      "  4.71290342e-01 -1.30378315e-01 -8.73449627e-01  8.47857710e-01\n",
      " -5.00328048e-01 -3.51110693e-01 -4.93497481e-01  3.05903182e-02\n",
      " -9.50309657e-01 -1.02673215e-01 -5.52115000e-01  4.65593970e-01\n",
      " -9.59262175e-01 -7.31694500e-01  2.98434164e-01 -5.16751976e-01\n",
      "  1.98946025e+00 -6.60496080e-01  1.72160840e+00 -5.13219858e-01\n",
      "  1.27110105e+00  8.67769115e-01 -7.75083287e-02 -9.29598481e-01\n",
      " -9.41973267e-01 -7.65472495e-01 -6.30626275e-02  2.69225213e+00\n",
      "  2.44893086e+00 -7.47875219e-01  2.19609645e+00 -4.56498471e-02\n",
      "  2.42179268e+00 -6.56747358e-01 -1.67706482e-01  1.60893357e+00\n",
      " -1.42366991e-01  2.77062504e-01  8.99206365e-01  1.80626548e+00\n",
      "  5.47011163e-01  2.60000986e+00  2.84595329e-01]\n"
     ]
    }
   ],
   "source": [
    "train_data= np.array(train_data)\n",
    "test_data= np.array(test_data)\n",
    "X_train, y_train = train_data[:,0:6], train_data[:,6]\n",
    "X_test, y_test = test_data[:,0:6], test_data[:,6]\n"
   ],
   "metadata": {
    "collapsed": false,
    "ExecuteTime": {
     "start_time": "2023-05-09T00:51:12.250627Z",
     "end_time": "2023-05-09T00:51:12.270167Z"
    }
   }
  },
  {
   "cell_type": "markdown",
   "source": [
    "### Simple use matrix to caclculate coefficients and predict\n",
    "###"
   ],
   "metadata": {
    "collapsed": false
   }
  },
  {
   "cell_type": "code",
   "execution_count": 8,
   "outputs": [],
   "source": [
    "a= MultipleLinearRegression()\n",
    "a.fit(X_train, y_train)\n",
    "y_pred = a.predict(X_test)"
   ],
   "metadata": {
    "collapsed": false,
    "ExecuteTime": {
     "start_time": "2023-05-09T00:41:14.010941Z",
     "end_time": "2023-05-09T00:41:14.258890Z"
    }
   }
  },
  {
   "cell_type": "markdown",
   "source": [
    "### Score R2 both with and without lib"
   ],
   "metadata": {
    "collapsed": false
   }
  },
  {
   "cell_type": "code",
   "execution_count": 9,
   "outputs": [
    {
     "name": "stdout",
     "output_type": "stream",
     "text": [
      "R-squared (R2) without sklearn: 0.7618456425991907\n"
     ]
    }
   ],
   "source": [
    "r2 = r2_score.calculate_r2_score(y_test, y_pred)\n",
    "print(\"R-squared (R2) without sklearn:\", r2)\n"
   ],
   "metadata": {
    "collapsed": false,
    "ExecuteTime": {
     "start_time": "2023-05-09T00:41:24.207578Z",
     "end_time": "2023-05-09T00:41:24.221129Z"
    }
   }
  },
  {
   "cell_type": "code",
   "execution_count": 10,
   "outputs": [
    {
     "name": "stdout",
     "output_type": "stream",
     "text": [
      "R-squared (R2) with sklearn: 0.7618456425991906\n"
     ]
    }
   ],
   "source": [
    "from sklearn.linear_model import LinearRegression\n",
    "reg = LinearRegression().fit(X_train, y_train)\n",
    "\n",
    "print(\"R-squared (R2) with sklearn:\",reg.score(X_test, y_test))"
   ],
   "metadata": {
    "collapsed": false,
    "ExecuteTime": {
     "start_time": "2023-05-09T00:41:27.462112Z",
     "end_time": "2023-05-09T00:41:28.036567Z"
    }
   }
  },
  {
   "cell_type": "code",
   "execution_count": null,
   "outputs": [],
   "source": [],
   "metadata": {
    "collapsed": false
   }
  }
 ],
 "metadata": {
  "kernelspec": {
   "display_name": "Python 3",
   "language": "python",
   "name": "python3"
  },
  "language_info": {
   "codemirror_mode": {
    "name": "ipython",
    "version": 2
   },
   "file_extension": ".py",
   "mimetype": "text/x-python",
   "name": "python",
   "nbconvert_exporter": "python",
   "pygments_lexer": "ipython2",
   "version": "2.7.6"
  }
 },
 "nbformat": 4,
 "nbformat_minor": 0
}
