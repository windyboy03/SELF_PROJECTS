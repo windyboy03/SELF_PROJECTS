{
 "cells": [
  {
   "cell_type": "markdown",
   "source": [
    "# Decision Tree + Random forest with and without lib"
   ],
   "metadata": {
    "collapsed": false
   }
  },
  {
   "cell_type": "markdown",
   "source": [
    "+ #### Import lib\n",
    "+ ###### panda to data processing\n",
    "+ ###### numpy to handel with matrix\n",
    "+ ###### categori_encoder to handel with object type\n",
    "+ ###### split_dataset to spit dataset to test and train file\n",
    "+ ###### scaler to standardize transform dataset\n",
    "+ ###### r2_score to calc R-squared score\n",
    "+ ###### accuracy_metric to score accuracy\n",
    "+ ###### CART_tree to get CART model"
   ],
   "metadata": {
    "collapsed": false
   }
  },
  {
   "cell_type": "code",
   "execution_count": 1,
   "metadata": {
    "collapsed": true,
    "ExecuteTime": {
     "start_time": "2023-05-09T01:12:11.489277Z",
     "end_time": "2023-05-09T01:12:14.411174Z"
    }
   },
   "outputs": [],
   "source": [
    "import pandas as pd\n",
    "import numpy as np\n",
    "import CART_tree #local file\n",
    "import split_dataset as sp #local file\n",
    "import scaler\n",
    "import r2_score #local file\n",
    "import categori_encoder as ce # local file\n",
    "import accuracy_metric #local file\n"
   ]
  },
  {
   "cell_type": "markdown",
   "source": [
    "#### Simple data processing(transfome category data to numberic)\n"
   ],
   "metadata": {
    "collapsed": false
   }
  },
  {
   "cell_type": "code",
   "execution_count": 3,
   "outputs": [
    {
     "name": "stdout",
     "output_type": "stream",
     "text": [
      "       SepalLengthCm  SepalWidthCm  PetalLengthCm  PetalWidthCm     Species\n",
      "count     150.000000    150.000000     150.000000    150.000000  150.000000\n",
      "mean        5.843333      3.054000       3.758667      1.198667    2.000000\n",
      "std         0.828066      0.433594       1.764420      0.763161    0.819232\n",
      "min         4.300000      2.000000       1.000000      0.100000    1.000000\n",
      "25%         5.100000      2.800000       1.600000      0.300000    1.000000\n",
      "50%         5.800000      3.000000       4.350000      1.300000    2.000000\n",
      "75%         6.400000      3.300000       5.100000      1.800000    3.000000\n",
      "max         7.900000      4.400000       6.900000      2.500000    3.000000\n"
     ]
    }
   ],
   "source": [
    "\n",
    "iris = pd.read_csv('Iris.csv')\n",
    "df = pd.DataFrame(iris)\n",
    "df = df.drop('Id', axis=1)\n",
    "category_map = {\n",
    "                'Species': {'Iris-setosa':1, 'Iris-versicolor':2, 'Iris-virginica':3}\n",
    "                }\n",
    "df_encoded = ce.category_transform(df, category_map)\n",
    "print(df_encoded.describe())\n"
   ],
   "metadata": {
    "collapsed": false,
    "ExecuteTime": {
     "start_time": "2023-04-13T17:22:25.658988Z",
     "end_time": "2023-04-13T17:22:25.706987Z"
    }
   }
  },
  {
   "cell_type": "markdown",
   "source": [
    "#### Splits the dataset into 80% train data and 20% test data\n"
   ],
   "metadata": {
    "collapsed": false
   }
  },
  {
   "cell_type": "code",
   "execution_count": 4,
   "outputs": [],
   "source": [
    "\n",
    "\n",
    "train_data, test_data = sp.train_test_split(df_encoded, test_ratio=0.2)\n",
    "\n",
    "#train_data= np.array(train_data)\n",
    "#X_train, y_train = train_data[:,0:4], train_data[:,4]\n",
    "test_data= np.array(test_data)\n",
    "X_test, y_test = test_data[:,0:4], test_data[:,4]\n"
   ],
   "metadata": {
    "collapsed": false,
    "ExecuteTime": {
     "start_time": "2023-04-13T17:22:27.584238Z",
     "end_time": "2023-04-13T17:22:27.595238Z"
    }
   }
  },
  {
   "cell_type": "code",
   "execution_count": 5,
   "outputs": [
    {
     "name": "stdout",
     "output_type": "stream",
     "text": [
      "[[5.1 3.5 1.4 0.2]\n",
      " [4.9 3.  1.4 0.2]\n",
      " [4.7 3.2 1.3 0.2]\n",
      " [4.6 3.1 1.5 0.2]\n",
      " [5.  3.6 1.4 0.2]\n",
      " [5.4 3.9 1.7 0.4]\n",
      " [4.6 3.4 1.4 0.3]\n",
      " [5.  3.4 1.5 0.2]\n",
      " [4.4 2.9 1.4 0.2]\n",
      " [4.9 3.1 1.5 0.1]\n",
      " [5.4 3.7 1.5 0.2]\n",
      " [4.8 3.4 1.6 0.2]\n",
      " [4.8 3.  1.4 0.1]\n",
      " [4.3 3.  1.1 0.1]\n",
      " [5.8 4.  1.2 0.2]\n",
      " [5.7 4.4 1.5 0.4]\n",
      " [5.4 3.9 1.3 0.4]\n",
      " [5.1 3.5 1.4 0.3]\n",
      " [5.7 3.8 1.7 0.3]\n",
      " [5.1 3.8 1.5 0.3]\n",
      " [5.4 3.4 1.7 0.2]\n",
      " [5.1 3.7 1.5 0.4]\n",
      " [4.6 3.6 1.  0.2]\n",
      " [5.1 3.3 1.7 0.5]\n",
      " [4.8 3.4 1.9 0.2]\n",
      " [5.  3.  1.6 0.2]\n",
      " [5.  3.4 1.6 0.4]\n",
      " [5.2 3.5 1.5 0.2]\n",
      " [5.2 3.4 1.4 0.2]\n",
      " [4.7 3.2 1.6 0.2]]\n",
      "[1. 1. 1. 1. 1. 1. 1. 1. 1. 1. 1. 1. 1. 1. 1. 1. 1. 1. 1. 1. 1. 1. 1. 1.\n",
      " 1. 1. 1. 1. 1. 1.]\n"
     ]
    }
   ],
   "source": [
    "print(X_test)\n",
    "print(y_test)"
   ],
   "metadata": {
    "collapsed": false,
    "ExecuteTime": {
     "start_time": "2023-04-13T17:22:28.718464Z",
     "end_time": "2023-04-13T17:22:28.729466Z"
    }
   }
  },
  {
   "cell_type": "code",
   "execution_count": 11,
   "outputs": [
    {
     "name": "stdout",
     "output_type": "stream",
     "text": [
      "Accuracy with tree:6 0.375\n",
      "Accuracy with tree:7 0.75\n",
      "Accuracy with tree:8 0.625\n",
      "Accuracy with tree:9 0.375\n",
      "Accuracy with tree:10 0.625\n",
      "Accuracy with tree:11 0.5\n",
      "Accuracy with tree:12 0.5\n",
      "Accuracy with tree:13 0.375\n",
      "Accuracy with tree:14 0.375\n",
      "Accuracy with tree:15 0.375\n",
      "Accuracy with tree:16 0.625\n",
      "Accuracy with tree:17 0.125\n",
      "Accuracy with tree:18 0.5\n",
      "Accuracy with tree:19 0.625\n",
      "Accuracy with tree:20 0.5\n",
      "Accuracy with tree:21 0.375\n",
      "Accuracy with tree:22 0.625\n",
      "Accuracy with tree:23 0.625\n",
      "Accuracy with tree:24 0.5\n",
      "Accuracy with tree:25 0.25\n",
      "Accuracy with tree:26 0.25\n",
      "Accuracy with tree:27 0.375\n",
      "Accuracy with tree:28 0.5\n",
      "Accuracy with tree:29 0.5\n",
      "Accuracy with tree:30 0.125\n",
      "Accuracy with tree:31 0.5\n",
      "Accuracy with tree:32 0.375\n",
      "Accuracy with tree:33 0.5\n",
      "Accuracy with random forest: 0.0\n"
     ]
    }
   ],
   "source": [
    "y_pre = []\n",
    "trees = []\n",
    "for i in range(6,34):\n",
    "    train_da = train_data.sample(frac=0.07, replace=False, random_state=i)\n",
    "    train_da= np.array(train_da)\n",
    "    X_te, y_te = train_da[:,0:4], train_da[:,4]\n",
    "    # Build tree base on train_data\n",
    "    tree = CART_tree.build_tree(train_da, 12, 16)\n",
    "    trees.append(tree)\n",
    "    # Predict test_data\n",
    "    for row in X_te:\n",
    "        prediction = CART_tree.predict(tree, row)\n",
    "        y_pre.append(prediction)\n",
    "    print(\"Accuracy with tree:%s\" %i,accuracy_metric.accuracy_metric(y_te, y_pre))\n",
    "predictions1 = []\n",
    "for row in X_test:\n",
    "    predictions = [CART_tree.predict(tree, row) for tree in trees]\n",
    "    predictions1.append(max(set(predictions), key=predictions.count))\n",
    "print(\"Accuracy with random forest:\",accuracy_metric.accuracy_metric(y_test, predictions1))\n"
   ],
   "metadata": {
    "collapsed": false,
    "ExecuteTime": {
     "start_time": "2023-04-13T17:23:44.506947Z",
     "end_time": "2023-04-13T17:23:44.597951Z"
    }
   }
  },
  {
   "cell_type": "markdown",
   "source": [],
   "metadata": {
    "collapsed": false
   }
  },
  {
   "cell_type": "markdown",
   "source": [
    "### Build tree and predict\n"
   ],
   "metadata": {
    "collapsed": false
   }
  },
  {
   "cell_type": "code",
   "execution_count": 1,
   "outputs": [
    {
     "ename": "NameError",
     "evalue": "name 'X_train' is not defined",
     "output_type": "error",
     "traceback": [
      "\u001B[1;31m---------------------------------------------------------------------------\u001B[0m",
      "\u001B[1;31mNameError\u001B[0m                                 Traceback (most recent call last)",
      "\u001B[1;32m~\\AppData\\Local\\Temp\\ipykernel_12240\\3567936261.py\u001B[0m in \u001B[0;36m<module>\u001B[1;34m\u001B[0m\n\u001B[0;32m      3\u001B[0m \u001B[0mclf\u001B[0m \u001B[1;33m=\u001B[0m \u001B[0mRandomForestClassifier\u001B[0m\u001B[1;33m(\u001B[0m\u001B[0mn_estimators\u001B[0m\u001B[1;33m=\u001B[0m\u001B[1;36m20\u001B[0m\u001B[1;33m,\u001B[0m \u001B[0mcriterion\u001B[0m\u001B[1;33m=\u001B[0m\u001B[1;34m'entropy'\u001B[0m\u001B[1;33m,\u001B[0m \u001B[0mrandom_state\u001B[0m\u001B[1;33m=\u001B[0m\u001B[1;36m1\u001B[0m\u001B[1;33m)\u001B[0m\u001B[1;33m\u001B[0m\u001B[1;33m\u001B[0m\u001B[0m\n\u001B[0;32m      4\u001B[0m \u001B[1;33m\u001B[0m\u001B[0m\n\u001B[1;32m----> 5\u001B[1;33m \u001B[0mclf\u001B[0m\u001B[1;33m.\u001B[0m\u001B[0mfit\u001B[0m\u001B[1;33m(\u001B[0m\u001B[0mX_train\u001B[0m\u001B[1;33m,\u001B[0m \u001B[0my_train\u001B[0m\u001B[1;33m)\u001B[0m\u001B[1;33m\u001B[0m\u001B[1;33m\u001B[0m\u001B[0m\n\u001B[0m\u001B[0;32m      6\u001B[0m \u001B[1;33m\u001B[0m\u001B[0m\n\u001B[0;32m      7\u001B[0m \u001B[0my_pred\u001B[0m \u001B[1;33m=\u001B[0m \u001B[0mclf\u001B[0m\u001B[1;33m.\u001B[0m\u001B[0mpredict\u001B[0m\u001B[1;33m(\u001B[0m\u001B[0mX_test\u001B[0m\u001B[1;33m)\u001B[0m\u001B[1;33m\u001B[0m\u001B[1;33m\u001B[0m\u001B[0m\n",
      "\u001B[1;31mNameError\u001B[0m: name 'X_train' is not defined"
     ]
    }
   ],
   "source": [
    "from sklearn.ensemble import RandomForestClassifier\n",
    "\n",
    "clf = RandomForestClassifier(n_estimators=20, criterion='entropy', random_state=1)\n",
    "\n",
    "clf.fit(X_train, y_train)\n",
    "\n",
    "y_pred = clf.predict(X_test)\n",
    "\n",
    "accuracy = accuracy_metric.accuracy_metric(y_test, y_pred)\n",
    "print(\"Accuracy with sklearn RandomForestClassifier:\", accuracy)\n"
   ],
   "metadata": {
    "collapsed": false,
    "ExecuteTime": {
     "start_time": "2023-04-13T16:15:31.669034Z",
     "end_time": "2023-04-13T16:15:31.699236Z"
    }
   }
  },
  {
   "cell_type": "code",
   "execution_count": null,
   "outputs": [],
   "source": [],
   "metadata": {
    "collapsed": false
   }
  }
 ],
 "metadata": {
  "kernelspec": {
   "display_name": "Python 3",
   "language": "python",
   "name": "python3"
  },
  "language_info": {
   "codemirror_mode": {
    "name": "ipython",
    "version": 2
   },
   "file_extension": ".py",
   "mimetype": "text/x-python",
   "name": "python",
   "nbconvert_exporter": "python",
   "pygments_lexer": "ipython2",
   "version": "2.7.6"
  }
 },
 "nbformat": 4,
 "nbformat_minor": 0
}
